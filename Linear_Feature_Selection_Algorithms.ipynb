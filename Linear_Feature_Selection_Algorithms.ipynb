{
  "nbformat": 4,
  "nbformat_minor": 0,
  "metadata": {
    "colab": {
      "name": "DP-MX-w-_fs.ipynb",
      "provenance": [],
      "collapsed_sections": [],
      "authorship_tag": "ABX9TyPVVHjaUTXb8owEViGPgzJz",
      "include_colab_link": true
    },
    "kernelspec": {
      "name": "python3",
      "display_name": "Python 3"
    },
    "language_info": {
      "name": "python"
    }
  },
  "cells": [
    {
      "cell_type": "markdown",
      "metadata": {
        "id": "view-in-github",
        "colab_type": "text"
      },
      "source": [
        "<a href=\"https://colab.research.google.com/github/harmith-singh/IHS-Feature-Selection/blob/main/Linear_Feature_Selection_Algorithms.ipynb\" target=\"_parent\"><img src=\"https://colab.research.google.com/assets/colab-badge.svg\" alt=\"Open In Colab\"/></a>"
      ]
    },
    {
      "cell_type": "code",
      "execution_count": null,
      "metadata": {
        "id": "agTIrlVbei75",
        "colab": {
          "base_uri": "https://localhost:8080/"
        },
        "outputId": "1243ff99-63e9-453e-d21c-0cc417819cf5"
      },
      "outputs": [
        {
          "output_type": "stream",
          "name": "stdout",
          "text": [
            "Collecting pyforest\n",
            "  Downloading pyforest-1.1.0.tar.gz (15 kB)\n",
            "Building wheels for collected packages: pyforest\n",
            "  Building wheel for pyforest (setup.py) ... \u001b[?25l\u001b[?25hdone\n",
            "  Created wheel for pyforest: filename=pyforest-1.1.0-py2.py3-none-any.whl size=14607 sha256=1efe31feabde1f1a7a28d77717e3925280b975216c1afe1492c62ee90777cfdc\n",
            "  Stored in directory: /root/.cache/pip/wheels/61/1c/da/48e6c884142d485475d852d69d20a096aba5beceb338822893\n",
            "Successfully built pyforest\n",
            "Installing collected packages: pyforest\n",
            "Successfully installed pyforest-1.1.0\n",
            "Collecting fuzzywuzzy\n",
            "  Downloading fuzzywuzzy-0.18.0-py2.py3-none-any.whl (18 kB)\n",
            "Installing collected packages: fuzzywuzzy\n",
            "Successfully installed fuzzywuzzy-0.18.0\n",
            "Collecting treelib\n",
            "  Downloading treelib-1.6.1.tar.gz (24 kB)\n",
            "Requirement already satisfied: future in /usr/local/lib/python3.7/dist-packages (from treelib) (0.16.0)\n",
            "Building wheels for collected packages: treelib\n",
            "  Building wheel for treelib (setup.py) ... \u001b[?25l\u001b[?25hdone\n",
            "  Created wheel for treelib: filename=treelib-1.6.1-py3-none-any.whl size=18385 sha256=dbf59d92b0eefddbcdf7176b43b380a07166a483633e5e68c1a88c695b5cecd5\n",
            "  Stored in directory: /root/.cache/pip/wheels/89/be/94/2c6d949ce599d1443426d83ba4dc93cd35c0f4638260930a53\n",
            "Successfully built treelib\n",
            "Installing collected packages: treelib\n",
            "Successfully installed treelib-1.6.1\n",
            "Requirement already satisfied: mlxtend in /usr/local/lib/python3.7/dist-packages (0.14.0)\n",
            "Collecting mlxtend\n",
            "  Downloading mlxtend-0.19.0-py2.py3-none-any.whl (1.3 MB)\n",
            "\u001b[K     |████████████████████████████████| 1.3 MB 5.4 MB/s \n",
            "\u001b[?25hRequirement already satisfied: joblib>=0.13.2 in /usr/local/lib/python3.7/dist-packages (from mlxtend) (1.1.0)\n",
            "Requirement already satisfied: setuptools in /usr/local/lib/python3.7/dist-packages (from mlxtend) (57.4.0)\n",
            "Requirement already satisfied: pandas>=0.24.2 in /usr/local/lib/python3.7/dist-packages (from mlxtend) (1.3.5)\n",
            "Requirement already satisfied: numpy>=1.16.2 in /usr/local/lib/python3.7/dist-packages (from mlxtend) (1.21.5)\n",
            "Requirement already satisfied: scipy>=1.2.1 in /usr/local/lib/python3.7/dist-packages (from mlxtend) (1.4.1)\n",
            "Requirement already satisfied: scikit-learn>=0.20.3 in /usr/local/lib/python3.7/dist-packages (from mlxtend) (1.0.2)\n",
            "Requirement already satisfied: matplotlib>=3.0.0 in /usr/local/lib/python3.7/dist-packages (from mlxtend) (3.2.2)\n",
            "Requirement already satisfied: cycler>=0.10 in /usr/local/lib/python3.7/dist-packages (from matplotlib>=3.0.0->mlxtend) (0.11.0)\n",
            "Requirement already satisfied: kiwisolver>=1.0.1 in /usr/local/lib/python3.7/dist-packages (from matplotlib>=3.0.0->mlxtend) (1.4.0)\n",
            "Requirement already satisfied: python-dateutil>=2.1 in /usr/local/lib/python3.7/dist-packages (from matplotlib>=3.0.0->mlxtend) (2.8.2)\n",
            "Requirement already satisfied: pyparsing!=2.0.4,!=2.1.2,!=2.1.6,>=2.0.1 in /usr/local/lib/python3.7/dist-packages (from matplotlib>=3.0.0->mlxtend) (3.0.7)\n",
            "Requirement already satisfied: typing-extensions in /usr/local/lib/python3.7/dist-packages (from kiwisolver>=1.0.1->matplotlib>=3.0.0->mlxtend) (3.10.0.2)\n",
            "Requirement already satisfied: pytz>=2017.3 in /usr/local/lib/python3.7/dist-packages (from pandas>=0.24.2->mlxtend) (2018.9)\n",
            "Requirement already satisfied: six>=1.5 in /usr/local/lib/python3.7/dist-packages (from python-dateutil>=2.1->matplotlib>=3.0.0->mlxtend) (1.15.0)\n",
            "Requirement already satisfied: threadpoolctl>=2.0.0 in /usr/local/lib/python3.7/dist-packages (from scikit-learn>=0.20.3->mlxtend) (3.1.0)\n",
            "Installing collected packages: mlxtend\n",
            "  Attempting uninstall: mlxtend\n",
            "    Found existing installation: mlxtend 0.14.0\n",
            "    Uninstalling mlxtend-0.14.0:\n",
            "      Successfully uninstalled mlxtend-0.14.0\n",
            "Successfully installed mlxtend-0.19.0\n",
            "Mounted at /content/drive\n"
          ]
        }
      ],
      "source": [
        "!pip install pyforest\n",
        "!pip install fuzzywuzzy\n",
        "!pip install treelib\n",
        "%pip install mlxtend --upgrade\n",
        "\n",
        "import pyforest\n",
        "import os\n",
        "import datetime\n",
        "from dateutil.relativedelta import relativedelta\n",
        "import warnings\n",
        "warnings.filterwarnings('ignore')\n",
        "from google.colab import files\n",
        "\n",
        "from fuzzywuzzy import fuzz\n",
        "from treelib import Node, Tree\n",
        "from mlxtend.feature_selection import SequentialFeatureSelector as SFS\n",
        "from mlxtend.plotting import plot_sequential_feature_selection as plot_SFS\n",
        "from sklearn.linear_model import LinearRegression\n",
        "from sklearn.ensemble import RandomForestRegressor\n",
        "\n",
        "def dump(df, output='dump_output.xlsx'):\n",
        "  df.reset_index(inplace= True, drop= True)\n",
        "  df.to_excel(output, index= False, header= True)\n",
        "  files.download('dump_output.xlsx')\n",
        "\n",
        "from google.colab import drive\n",
        "drive.mount('/content/drive')"
      ]
    },
    {
      "cell_type": "code",
      "source": [
        "# Joining MX data from O9\n",
        "local_download_path = \"/content/drive/MyDrive/Antonio's Data/Mexico Sales Data/\"\n",
        "\n",
        "file_list = []\n",
        "\n",
        "for filename in os.listdir(local_download_path):\n",
        "    if filename.endswith(\"csv\"): \n",
        "        # Your code comes here such as \n",
        "        print(filename)\n",
        "        file_list.append(local_download_path+filename)\n",
        "\n",
        "#--\n",
        "\n",
        "#concatinating datasets\n",
        "df = pd.DataFrame()\n",
        "print('')\n",
        "for file in file_list:\n",
        "\n",
        "  df_ = pd.read_csv(file)\n",
        "  print(file, df_.shape)\n",
        "  df = pd.concat([df, df_], ignore_index= True)\n",
        "  print(df.shape, '\\n')\n",
        "\n",
        "#--\n",
        "\n",
        "#convert partial-weeks to weeks\n",
        "df.reset_index(inplace= True, drop=True)\n",
        "df['date'] = pd.to_datetime(df['Time.[PartialWeek]'])\n",
        "df['year'] = df['date'].dt.year\n",
        "df['weeknum'] = df['date'].dt.isocalendar().week\n",
        "\n",
        "def make_date(year, weeknum):\n",
        "  return datetime.date(year, 1, 1) + relativedelta(weeks= +weeknum)\n",
        "\n",
        "df['date_new'] = df.apply(lambda row: make_date(row['year'], row['weeknum']), axis= 1)\n",
        "df['date_new'] = pd.to_datetime(df['date_new'])\n",
        "\n",
        "#--\n",
        "\n",
        "#aggregating, renaming columns\n",
        "df = df.groupby(['date_new', 'Item.[Transition Planning Item]', 'Sales Domain.[Transition DPG]'])\\\n",
        "       .agg(actual_sales = ('ActualInput Initial', 'sum'))\\\n",
        "       .reset_index()\n",
        "       ##since we're summing across all intersections, so there is no longer a need to do df.fillna(0)\n",
        "       \n",
        "df.insert(0, 'country', 'MX')\n",
        "df = df.rename(columns= {'date_new': 'date',\\\n",
        "                        'Item.[Transition Planning Item]': 'TPI',\\\n",
        "                        'Sales Domain.[Transition DPG]': 'DPG'})\n",
        "\n",
        "#--\n",
        "\n",
        "#imputing negative values with 0 --this step is debatable, but since O9 performs it so kept here\n",
        "df['actual_sales'] = df['actual_sales'].clip(lower=0)\n",
        "\n",
        "#--\n",
        "\n",
        "#manual_inspection --removing some weird things from dataset\n",
        "'''\n",
        "do a basic sanity check using:\n",
        "  1. df.date.unique() --> found some weird dates ['2021-07-02T00:00:00.000000000', '2022-01-07T00:00:00.000000000']\n",
        "  2. df.TPI.unique()\n",
        "  3. df.DPG.unique() --> found some weird DPGs ['DEXMOD', '0', 'BX14']\n",
        "  4. df.plot.line(x= 'date', y= 'actual_sales', figsize= (40,8)) --> a visual inspection of volumes\n",
        "'''\n",
        "df = df[(df.DPG != 'DEXMOD') & (df.DPG != '0') & (df.DPG != 'BX14')]\n",
        "df = df[df.date <= '2021-06-25']\n",
        "\n",
        "#--\n",
        "\n",
        "#taking backup, plot of dataset\n",
        "df_mx = df.copy(deep= True)\n",
        "print(df)\n",
        "df.plot.line(x= 'date', y= 'actual_sales', figsize= (40,8));"
      ],
      "metadata": {
        "id": "VI3lmRIWgqfu",
        "colab": {
          "base_uri": "https://localhost:8080/",
          "height": 1000
        },
        "outputId": "c5b50ae1-36df-482c-d708-1e59f076e534"
      },
      "execution_count": null,
      "outputs": [
        {
          "output_type": "stream",
          "name": "stdout",
          "text": [
            "Fact.Sales_2018_2.csv\n",
            "Fact.Sales_2018_1.csv\n",
            "Fact.Sales_2020_1.csv\n",
            "Fact.Sales_2019_2.csv\n",
            "Fact.Sales_2020_2.csv\n",
            "Fact.Sales_2019_1.csv\n",
            "MEX-H1_2021.csv\n"
          ]
        },
        {
          "output_type": "display_data",
          "data": {
            "text/plain": [
              "<IPython.core.display.Javascript object>"
            ],
            "application/javascript": [
              "\n",
              "        if (window._pyforest_update_imports_cell) { window._pyforest_update_imports_cell('import pandas as pd'); }\n",
              "    "
            ]
          },
          "metadata": {}
        },
        {
          "output_type": "stream",
          "name": "stdout",
          "text": [
            "\n"
          ]
        },
        {
          "output_type": "display_data",
          "data": {
            "text/plain": [
              "<IPython.core.display.Javascript object>"
            ],
            "application/javascript": [
              "\n",
              "        if (window._pyforest_update_imports_cell) { window._pyforest_update_imports_cell('import pandas as pd'); }\n",
              "    "
            ]
          },
          "metadata": {}
        },
        {
          "output_type": "stream",
          "name": "stdout",
          "text": [
            "/content/drive/MyDrive/Antonio's Data/Mexico Sales Data/Fact.Sales_2018_2.csv (645491, 6)\n"
          ]
        },
        {
          "output_type": "display_data",
          "data": {
            "text/plain": [
              "<IPython.core.display.Javascript object>"
            ],
            "application/javascript": [
              "\n",
              "        if (window._pyforest_update_imports_cell) { window._pyforest_update_imports_cell('import pandas as pd'); }\n",
              "    "
            ]
          },
          "metadata": {}
        },
        {
          "output_type": "stream",
          "name": "stdout",
          "text": [
            "(645491, 6) \n",
            "\n"
          ]
        },
        {
          "output_type": "display_data",
          "data": {
            "text/plain": [
              "<IPython.core.display.Javascript object>"
            ],
            "application/javascript": [
              "\n",
              "        if (window._pyforest_update_imports_cell) { window._pyforest_update_imports_cell('import pandas as pd'); }\n",
              "    "
            ]
          },
          "metadata": {}
        },
        {
          "output_type": "stream",
          "name": "stdout",
          "text": [
            "/content/drive/MyDrive/Antonio's Data/Mexico Sales Data/Fact.Sales_2018_1.csv (623230, 6)\n"
          ]
        },
        {
          "output_type": "display_data",
          "data": {
            "text/plain": [
              "<IPython.core.display.Javascript object>"
            ],
            "application/javascript": [
              "\n",
              "        if (window._pyforest_update_imports_cell) { window._pyforest_update_imports_cell('import pandas as pd'); }\n",
              "    "
            ]
          },
          "metadata": {}
        },
        {
          "output_type": "stream",
          "name": "stdout",
          "text": [
            "(1268721, 6) \n",
            "\n"
          ]
        },
        {
          "output_type": "display_data",
          "data": {
            "text/plain": [
              "<IPython.core.display.Javascript object>"
            ],
            "application/javascript": [
              "\n",
              "        if (window._pyforest_update_imports_cell) { window._pyforest_update_imports_cell('import pandas as pd'); }\n",
              "    "
            ]
          },
          "metadata": {}
        },
        {
          "output_type": "stream",
          "name": "stdout",
          "text": [
            "/content/drive/MyDrive/Antonio's Data/Mexico Sales Data/Fact.Sales_2020_1.csv (575732, 6)\n"
          ]
        },
        {
          "output_type": "display_data",
          "data": {
            "text/plain": [
              "<IPython.core.display.Javascript object>"
            ],
            "application/javascript": [
              "\n",
              "        if (window._pyforest_update_imports_cell) { window._pyforest_update_imports_cell('import pandas as pd'); }\n",
              "    "
            ]
          },
          "metadata": {}
        },
        {
          "output_type": "stream",
          "name": "stdout",
          "text": [
            "(1844453, 6) \n",
            "\n"
          ]
        },
        {
          "output_type": "display_data",
          "data": {
            "text/plain": [
              "<IPython.core.display.Javascript object>"
            ],
            "application/javascript": [
              "\n",
              "        if (window._pyforest_update_imports_cell) { window._pyforest_update_imports_cell('import pandas as pd'); }\n",
              "    "
            ]
          },
          "metadata": {}
        },
        {
          "output_type": "stream",
          "name": "stdout",
          "text": [
            "/content/drive/MyDrive/Antonio's Data/Mexico Sales Data/Fact.Sales_2019_2.csv (749521, 6)\n"
          ]
        },
        {
          "output_type": "display_data",
          "data": {
            "text/plain": [
              "<IPython.core.display.Javascript object>"
            ],
            "application/javascript": [
              "\n",
              "        if (window._pyforest_update_imports_cell) { window._pyforest_update_imports_cell('import pandas as pd'); }\n",
              "    "
            ]
          },
          "metadata": {}
        },
        {
          "output_type": "stream",
          "name": "stdout",
          "text": [
            "(2593974, 6) \n",
            "\n"
          ]
        },
        {
          "output_type": "display_data",
          "data": {
            "text/plain": [
              "<IPython.core.display.Javascript object>"
            ],
            "application/javascript": [
              "\n",
              "        if (window._pyforest_update_imports_cell) { window._pyforest_update_imports_cell('import pandas as pd'); }\n",
              "    "
            ]
          },
          "metadata": {}
        },
        {
          "output_type": "stream",
          "name": "stdout",
          "text": [
            "/content/drive/MyDrive/Antonio's Data/Mexico Sales Data/Fact.Sales_2020_2.csv (742549, 6)\n"
          ]
        },
        {
          "output_type": "display_data",
          "data": {
            "text/plain": [
              "<IPython.core.display.Javascript object>"
            ],
            "application/javascript": [
              "\n",
              "        if (window._pyforest_update_imports_cell) { window._pyforest_update_imports_cell('import pandas as pd'); }\n",
              "    "
            ]
          },
          "metadata": {}
        },
        {
          "output_type": "stream",
          "name": "stdout",
          "text": [
            "(3336523, 6) \n",
            "\n"
          ]
        },
        {
          "output_type": "display_data",
          "data": {
            "text/plain": [
              "<IPython.core.display.Javascript object>"
            ],
            "application/javascript": [
              "\n",
              "        if (window._pyforest_update_imports_cell) { window._pyforest_update_imports_cell('import pandas as pd'); }\n",
              "    "
            ]
          },
          "metadata": {}
        },
        {
          "output_type": "stream",
          "name": "stdout",
          "text": [
            "/content/drive/MyDrive/Antonio's Data/Mexico Sales Data/Fact.Sales_2019_1.csv (661124, 6)\n"
          ]
        },
        {
          "output_type": "display_data",
          "data": {
            "text/plain": [
              "<IPython.core.display.Javascript object>"
            ],
            "application/javascript": [
              "\n",
              "        if (window._pyforest_update_imports_cell) { window._pyforest_update_imports_cell('import pandas as pd'); }\n",
              "    "
            ]
          },
          "metadata": {}
        },
        {
          "output_type": "stream",
          "name": "stdout",
          "text": [
            "(3997647, 6) \n",
            "\n"
          ]
        },
        {
          "output_type": "display_data",
          "data": {
            "text/plain": [
              "<IPython.core.display.Javascript object>"
            ],
            "application/javascript": [
              "\n",
              "        if (window._pyforest_update_imports_cell) { window._pyforest_update_imports_cell('import pandas as pd'); }\n",
              "    "
            ]
          },
          "metadata": {}
        },
        {
          "output_type": "stream",
          "name": "stdout",
          "text": [
            "/content/drive/MyDrive/Antonio's Data/Mexico Sales Data/MEX-H1_2021.csv (779262, 6)\n"
          ]
        },
        {
          "output_type": "display_data",
          "data": {
            "text/plain": [
              "<IPython.core.display.Javascript object>"
            ],
            "application/javascript": [
              "\n",
              "        if (window._pyforest_update_imports_cell) { window._pyforest_update_imports_cell('import pandas as pd'); }\n",
              "    "
            ]
          },
          "metadata": {}
        },
        {
          "output_type": "stream",
          "name": "stdout",
          "text": [
            "(4776909, 6) \n",
            "\n"
          ]
        },
        {
          "output_type": "display_data",
          "data": {
            "text/plain": [
              "<IPython.core.display.Javascript object>"
            ],
            "application/javascript": [
              "\n",
              "        if (window._pyforest_update_imports_cell) { window._pyforest_update_imports_cell('import pandas as pd'); }\n",
              "    "
            ]
          },
          "metadata": {}
        },
        {
          "output_type": "display_data",
          "data": {
            "text/plain": [
              "<IPython.core.display.Javascript object>"
            ],
            "application/javascript": [
              "\n",
              "        if (window._pyforest_update_imports_cell) { window._pyforest_update_imports_cell('import pandas as pd'); }\n",
              "    "
            ]
          },
          "metadata": {}
        },
        {
          "output_type": "stream",
          "name": "stdout",
          "text": [
            "        country       date      TPI        DPG  actual_sales\n",
            "0            MX 2018-01-08  3000003  100015989      451.9008\n",
            "1            MX 2018-01-08  3000003  100015990      265.8240\n",
            "2            MX 2018-01-08  3000003  100015994      429.4080\n",
            "3            MX 2018-01-08  3000003  100017727       14.3136\n",
            "4            MX 2018-01-08  3000003  100195993       97.1280\n",
            "...         ...        ...      ...        ...           ...\n",
            "1746979      MX 2021-06-25  3009397       FP10       12.6096\n",
            "1746980      MX 2021-06-25  3009397       FP29        2.1300\n",
            "1746981      MX 2021-06-25  3009397       FP30        7.1568\n",
            "1746982      MX 2021-06-25  3009397       FX00        9.0312\n",
            "1746983      MX 2021-06-25  3009397       FX04        0.5964\n",
            "\n",
            "[1729591 rows x 5 columns]\n"
          ]
        },
        {
          "output_type": "display_data",
          "data": {
            "text/plain": [
              "<Figure size 2880x576 with 1 Axes>"
            ],
            "image/png": "[encoded data removed]"
          },
          "metadata": {
            "needs_background": "light"
          }
        }
      ]
    },
    {
      "cell_type": "code",
      "source": [
        "# Doing ABCD-WXYZ, Life-cycle segmentation\n",
        "df['key'] = df['TPI'].astype('str').str.strip() + ':' + df['DPG'].astype('str').str.strip()\n",
        "print('No. of unique TPI-DPG intersections =', len(df['key'].unique()), '\\n')\n",
        "\n",
        "#--\n",
        "\n",
        "#calculating avg_sales and then cumulative avg_sales\n",
        "df_vols = df.groupby(['key'])\\\n",
        "            .agg(avg_sales = ('actual_sales', 'mean'))\\\n",
        "            .sort_values(['avg_sales'], ascending= False)\\\n",
        "            .reset_index()\n",
        "\n",
        "df_vols['cum_sales'] = df_vols['avg_sales'].cumsum()\n",
        "df_vols['%cum_sales'] = df_vols['cum_sales']/df_vols['avg_sales'].sum()\n",
        "print(df_vols)\n",
        "\n",
        "#--\n",
        "\n",
        "#binning as per %cum_sales-- last bin is >1 to include keys with %cum_sales==1\n",
        "df_vols['vol_seg'] = pd.cut(df_vols['%cum_sales'],\\\n",
        "                            bins=[0, .8, .95, .995, 1.01],\\\n",
        "                            labels=['A', 'B', 'C', 'D'],\\\n",
        "                            include_lowest= True)\n",
        "\n",
        "print('\\nVolume Segments and their counts:')\n",
        "print(df_vols['vol_seg'].value_counts())\n",
        "print('Total\\t', df_vols['vol_seg'].value_counts().sum())\n",
        "\n",
        "#--\n",
        "\n",
        "#calculating coefficient-of-variation\n",
        "df_cov = df.groupby(['key'])\\\n",
        "           .agg(avg_sales = ('actual_sales', 'mean'), sd_sales = ('actual_sales', 'std'))\\\n",
        "           .reset_index()\n",
        "\n",
        "df_cov['cov'] = df_cov['sd_sales']/df_cov['avg_sales']\n",
        "print(df_cov)\n",
        "\n",
        "#--\n",
        "\n",
        "#binning as per COV value-- last bin is infinity here to grab all remainder values\n",
        "df_cov['cov_seg'] = pd.cut(df_cov['cov'],\\\n",
        "                           bins=[0, .5, 1, 2, np.inf],\\\n",
        "                           labels= ['W', 'X', 'Y', 'Z'],\\\n",
        "                           include_lowest= True)\n",
        "##binning NaN COV values as 'Z'\n",
        "df_cov['cov_seg'] = df_cov['cov_seg'].fillna('Z')\n",
        "\n",
        "print('\\nCOV Segments and their counts:')\n",
        "print(df_cov['cov_seg'].value_counts())\n",
        "print('Total\\t', df_cov['cov_seg'].value_counts().sum())\n",
        "\n",
        "#--\n",
        "\n",
        "#adding vol_seg, cov_seg to main dataset\n",
        "df = pd.merge(df, df_vols[['key', 'vol_seg']], on= 'key', how= 'left')\n",
        "df = pd.merge(df, df_cov[['key', 'cov_seg']], on= 'key', how= 'left')\n",
        "\n",
        "df['sub_seg'] = df['vol_seg'].astype('str') + df['cov_seg'].astype('str')\n",
        "\n",
        "print('\\nFinal Sub-segments and their counts, market share:')\n",
        "print(df['sub_seg'].value_counts())\n",
        "print('Total\\t', df['sub_seg'].value_counts().sum(), '\\n')\n",
        "\n",
        "#--\n",
        "\n",
        "#printing sub-segments and their market shares\n",
        "df_ = df.groupby(['sub_seg'])\\\n",
        "        .agg(actual_sales = ('actual_sales', 'sum'))\\\n",
        "        .reset_index()\n",
        "df_['%share'] = df_['actual_sales']/df_['actual_sales'].sum()\n",
        "\n",
        "df_ = df_.sort_values(by= ['%share'], ascending= False)\\\n",
        "         .reset_index(drop=True)\n",
        "df_['%cumshare']  = df_['%share'].cumsum()\n",
        "print(df_)\n",
        "\n",
        "#--\n",
        "\n",
        "#life-cycle segmentation into Mature, NPI, EOL is skipped for now\n",
        "\n",
        "#--\n",
        "\n",
        "#taking backup\n",
        "df_seg = df.copy(deep= True)\n",
        "df"
      ],
      "metadata": {
        "id": "1v-lK7itidHA",
        "colab": {
          "base_uri": "https://localhost:8080/",
          "height": 1000
        },
        "outputId": "17a41956-2be3-4a39-b769-2938ed3ae652"
      },
      "execution_count": null,
      "outputs": [
        {
          "output_type": "stream",
          "name": "stdout",
          "text": [
            "No. of unique TPI-DPG intersections = 25556 \n",
            "\n",
            "                key    avg_sales     cum_sales  %cum_sales\n",
            "0      3001268:FC00  6888.319884  6.888320e+03    0.005490\n",
            "1      3008329:FT00  5217.601225  1.210592e+04    0.009649\n",
            "2      3000022:FK00  4955.338315  1.706126e+04    0.013598\n",
            "3      3000022:GE06  4172.115889  2.123338e+04    0.016923\n",
            "4      3001268:FP11  4138.557945  2.537193e+04    0.020222\n",
            "...             ...          ...           ...         ...\n",
            "25551  3007531:FY00     0.000000  1.254688e+06    1.000000\n",
            "25552  3006198:FS00     0.000000  1.254688e+06    1.000000\n",
            "25553  3001463:FP07     0.000000  1.254688e+06    1.000000\n",
            "25554  3001507:FE17     0.000000  1.254688e+06    1.000000\n",
            "25555  3000191:FB04     0.000000  1.254688e+06    1.000000\n",
            "\n",
            "[25556 rows x 4 columns]\n"
          ]
        },
        {
          "output_type": "display_data",
          "data": {
            "text/plain": [
              "<IPython.core.display.Javascript object>"
            ],
            "application/javascript": [
              "\n",
              "        if (window._pyforest_update_imports_cell) { window._pyforest_update_imports_cell('import pandas as pd'); }\n",
              "    "
            ]
          },
          "metadata": {}
        },
        {
          "output_type": "stream",
          "name": "stdout",
          "text": [
            "\n",
            "Volume Segments and their counts:\n",
            "D    9656\n",
            "C    8861\n",
            "B    4605\n",
            "A    2434\n",
            "Name: vol_seg, dtype: int64\n",
            "Total\t 25556\n",
            "                     key   avg_sales    sd_sales       cov\n",
            "0      3000003:100015989  302.211397  246.262910  0.814870\n",
            "1      3000003:100015990  203.585411  201.059690  0.987594\n",
            "2      3000003:100015992   46.568671   36.786362  0.789938\n",
            "3      3000003:100015994  589.136100  426.609552  0.724127\n",
            "4      3000003:100016000  148.346948  102.787007  0.692883\n",
            "...                  ...         ...         ...       ...\n",
            "25551       3009397:FP10   14.285200   12.989112  0.909271\n",
            "25552       3009397:FP29    3.195000    1.506137  0.471405\n",
            "25553       3009397:FP30    7.156800         NaN       NaN\n",
            "25554       3009397:FX00    9.031200         NaN       NaN\n",
            "25555       3009397:FX04    3.195000    3.674975  1.150227\n",
            "\n",
            "[25556 rows x 4 columns]\n"
          ]
        },
        {
          "output_type": "display_data",
          "data": {
            "text/plain": [
              "<IPython.core.display.Javascript object>"
            ],
            "application/javascript": [
              "\n",
              "        if (window._pyforest_update_imports_cell) { window._pyforest_update_imports_cell('import pandas as pd'); }\n",
              "    "
            ]
          },
          "metadata": {}
        },
        {
          "output_type": "display_data",
          "data": {
            "text/plain": [
              "<IPython.core.display.Javascript object>"
            ],
            "application/javascript": [
              "\n",
              "        if (window._pyforest_update_imports_cell) { window._pyforest_update_imports_cell('import numpy as np\\nimport pandas as pd'); }\n",
              "    "
            ]
          },
          "metadata": {}
        },
        {
          "output_type": "stream",
          "name": "stdout",
          "text": [
            "\n",
            "COV Segments and their counts:\n",
            "X    13899\n",
            "Y     6585\n",
            "W     3065\n",
            "Z     2007\n",
            "Name: cov_seg, dtype: int64\n",
            "Total\t 25556\n"
          ]
        },
        {
          "output_type": "display_data",
          "data": {
            "text/plain": [
              "<IPython.core.display.Javascript object>"
            ],
            "application/javascript": [
              "\n",
              "        if (window._pyforest_update_imports_cell) { window._pyforest_update_imports_cell('import numpy as np\\nimport pandas as pd'); }\n",
              "    "
            ]
          },
          "metadata": {}
        },
        {
          "output_type": "display_data",
          "data": {
            "text/plain": [
              "<IPython.core.display.Javascript object>"
            ],
            "application/javascript": [
              "\n",
              "        if (window._pyforest_update_imports_cell) { window._pyforest_update_imports_cell('import numpy as np\\nimport pandas as pd'); }\n",
              "    "
            ]
          },
          "metadata": {}
        },
        {
          "output_type": "stream",
          "name": "stdout",
          "text": [
            "\n",
            "Final Sub-segments and their counts, market share:\n",
            "CX    391555\n",
            "BX    256632\n",
            "DX    206990\n",
            "AX    189811\n",
            "CY    168610\n",
            "DY    133869\n",
            "AW    106082\n",
            "BW     66499\n",
            "BY     64844\n",
            "CW     47363\n",
            "CZ     33733\n",
            "BZ     23682\n",
            "AY     16998\n",
            "DZ     10612\n",
            "DW      8080\n",
            "AZ      4231\n",
            "Name: sub_seg, dtype: int64\n",
            "Total\t 1729591 \n",
            "\n",
            "   sub_seg  actual_sales    %share  %cumshare\n",
            "0       AX  7.956648e+07  0.460384   0.460384\n",
            "1       AW  6.630799e+07  0.383668   0.844052\n",
            "2       BX  1.091040e+07  0.063129   0.907182\n",
            "3       AY  4.212857e+06  0.024376   0.931558\n",
            "4       BW  2.956512e+06  0.017107   0.948665\n",
            "5       BY  2.664483e+06  0.015417   0.964082\n",
            "6       CX  2.622623e+06  0.015175   0.979257\n",
            "7       CY  1.007679e+06  0.005831   0.985087\n",
            "8       BZ  9.786375e+05  0.005663   0.990750\n",
            "9       AZ  6.818907e+05  0.003946   0.994696\n",
            "10      CW  3.953655e+05  0.002288   0.996983\n",
            "11      CZ  2.319832e+05  0.001342   0.998325\n",
            "12      DX  1.633483e+05  0.000945   0.999271\n",
            "13      DY  1.105710e+05  0.000640   0.999910\n",
            "14      DZ  9.735932e+03  0.000056   0.999967\n",
            "15      DW  5.746380e+03  0.000033   1.000000\n"
          ]
        },
        {
          "output_type": "execute_result",
          "data": {
            "text/plain": [
              "        country       date      TPI        DPG  actual_sales  \\\n",
              "0            MX 2018-01-08  3000003  100015989      451.9008   \n",
              "1            MX 2018-01-08  3000003  100015990      265.8240   \n",
              "2            MX 2018-01-08  3000003  100015994      429.4080   \n",
              "3            MX 2018-01-08  3000003  100017727       14.3136   \n",
              "4            MX 2018-01-08  3000003  100195993       97.1280   \n",
              "...         ...        ...      ...        ...           ...   \n",
              "1729586      MX 2021-06-25  3009397       FP10       12.6096   \n",
              "1729587      MX 2021-06-25  3009397       FP29        2.1300   \n",
              "1729588      MX 2021-06-25  3009397       FP30        7.1568   \n",
              "1729589      MX 2021-06-25  3009397       FX00        9.0312   \n",
              "1729590      MX 2021-06-25  3009397       FX04        0.5964   \n",
              "\n",
              "                       key vol_seg cov_seg sub_seg  \n",
              "0        3000003:100015989       A       X      AX  \n",
              "1        3000003:100015990       A       X      AX  \n",
              "2        3000003:100015994       A       X      AX  \n",
              "3        3000003:100017727       B       Y      BY  \n",
              "4        3000003:100195993       B       X      BX  \n",
              "...                    ...     ...     ...     ...  \n",
              "1729586       3009397:FP10       C       X      CX  \n",
              "1729587       3009397:FP29       C       W      CW  \n",
              "1729588       3009397:FP30       C       Z      CZ  \n",
              "1729589       3009397:FX00       C       Z      CZ  \n",
              "1729590       3009397:FX04       C       Y      CY  \n",
              "\n",
              "[1729591 rows x 9 columns]"
            ],
            "text/html": [
              "\n",
              "  <div id=\"df-dc1bf82f-e25e-466b-8712-987ac5248697\">\n",
              "    <div class=\"colab-df-container\">\n",
              "      <div>\n",
              "<style scoped>\n",
              "    .dataframe tbody tr th:only-of-type {\n",
              "        vertical-align: middle;\n",
              "    }\n",
              "\n",
              "    .dataframe tbody tr th {\n",
              "        vertical-align: top;\n",
              "    }\n",
              "\n",
              "    .dataframe thead th {\n",
              "        text-align: right;\n",
              "    }\n",
              "</style>\n",
              "<table border=\"1\" class=\"dataframe\">\n",
              "  <thead>\n",
              "    <tr style=\"text-align: right;\">\n",
              "      <th></th>\n",
              "      <th>country</th>\n",
              "      <th>date</th>\n",
              "      <th>TPI</th>\n",
              "      <th>DPG</th>\n",
              "      <th>actual_sales</th>\n",
              "      <th>key</th>\n",
              "      <th>vol_seg</th>\n",
              "      <th>cov_seg</th>\n",
              "      <th>sub_seg</th>\n",
              "    </tr>\n",
              "  </thead>\n",
              "  <tbody>\n",
              "    <tr>\n",
              "      <th>0</th>\n",
              "      <td>MX</td>\n",
              "      <td>2018-01-08</td>\n",
              "      <td>3000003</td>\n",
              "      <td>100015989</td>\n",
              "      <td>451.9008</td>\n",
              "      <td>3000003:100015989</td>\n",
              "      <td>A</td>\n",
              "      <td>X</td>\n",
              "      <td>AX</td>\n",
              "    </tr>\n",
              "    <tr>\n",
              "      <th>1</th>\n",
              "      <td>MX</td>\n",
              "      <td>2018-01-08</td>\n",
              "      <td>3000003</td>\n",
              "      <td>100015990</td>\n",
              "      <td>265.8240</td>\n",
              "      <td>3000003:100015990</td>\n",
              "      <td>A</td>\n",
              "      <td>X</td>\n",
              "      <td>AX</td>\n",
              "    </tr>\n",
              "    <tr>\n",
              "      <th>2</th>\n",
              "      <td>MX</td>\n",
              "      <td>2018-01-08</td>\n",
              "      <td>3000003</td>\n",
              "      <td>100015994</td>\n",
              "      <td>429.4080</td>\n",
              "      <td>3000003:100015994</td>\n",
              "      <td>A</td>\n",
              "      <td>X</td>\n",
              "      <td>AX</td>\n",
              "    </tr>\n",
              "    <tr>\n",
              "      <th>3</th>\n",
              "      <td>MX</td>\n",
              "      <td>2018-01-08</td>\n",
              "      <td>3000003</td>\n",
              "      <td>100017727</td>\n",
              "      <td>14.3136</td>\n",
              "      <td>3000003:100017727</td>\n",
              "      <td>B</td>\n",
              "      <td>Y</td>\n",
              "      <td>BY</td>\n",
              "    </tr>\n",
              "    <tr>\n",
              "      <th>4</th>\n",
              "      <td>MX</td>\n",
              "      <td>2018-01-08</td>\n",
              "      <td>3000003</td>\n",
              "      <td>100195993</td>\n",
              "      <td>97.1280</td>\n",
              "      <td>3000003:100195993</td>\n",
              "      <td>B</td>\n",
              "      <td>X</td>\n",
              "      <td>BX</td>\n",
              "    </tr>\n",
              "    <tr>\n",
              "      <th>...</th>\n",
              "      <td>...</td>\n",
              "      <td>...</td>\n",
              "      <td>...</td>\n",
              "      <td>...</td>\n",
              "      <td>...</td>\n",
              "      <td>...</td>\n",
              "      <td>...</td>\n",
              "      <td>...</td>\n",
              "      <td>...</td>\n",
              "    </tr>\n",
              "    <tr>\n",
              "      <th>1729586</th>\n",
              "      <td>MX</td>\n",
              "      <td>2021-06-25</td>\n",
              "      <td>3009397</td>\n",
              "      <td>FP10</td>\n",
              "      <td>12.6096</td>\n",
              "      <td>3009397:FP10</td>\n",
              "      <td>C</td>\n",
              "      <td>X</td>\n",
              "      <td>CX</td>\n",
              "    </tr>\n",
              "    <tr>\n",
              "      <th>1729587</th>\n",
              "      <td>MX</td>\n",
              "      <td>2021-06-25</td>\n",
              "      <td>3009397</td>\n",
              "      <td>FP29</td>\n",
              "      <td>2.1300</td>\n",
              "      <td>3009397:FP29</td>\n",
              "      <td>C</td>\n",
              "      <td>W</td>\n",
              "      <td>CW</td>\n",
              "    </tr>\n",
              "    <tr>\n",
              "      <th>1729588</th>\n",
              "      <td>MX</td>\n",
              "      <td>2021-06-25</td>\n",
              "      <td>3009397</td>\n",
              "      <td>FP30</td>\n",
              "      <td>7.1568</td>\n",
              "      <td>3009397:FP30</td>\n",
              "      <td>C</td>\n",
              "      <td>Z</td>\n",
              "      <td>CZ</td>\n",
              "    </tr>\n",
              "    <tr>\n",
              "      <th>1729589</th>\n",
              "      <td>MX</td>\n",
              "      <td>2021-06-25</td>\n",
              "      <td>3009397</td>\n",
              "      <td>FX00</td>\n",
              "      <td>9.0312</td>\n",
              "      <td>3009397:FX00</td>\n",
              "      <td>C</td>\n",
              "      <td>Z</td>\n",
              "      <td>CZ</td>\n",
              "    </tr>\n",
              "    <tr>\n",
              "      <th>1729590</th>\n",
              "      <td>MX</td>\n",
              "      <td>2021-06-25</td>\n",
              "      <td>3009397</td>\n",
              "      <td>FX04</td>\n",
              "      <td>0.5964</td>\n",
              "      <td>3009397:FX04</td>\n",
              "      <td>C</td>\n",
              "      <td>Y</td>\n",
              "      <td>CY</td>\n",
              "    </tr>\n",
              "  </tbody>\n",
              "</table>\n",
              "<p>1729591 rows × 9 columns</p>\n",
              "</div>\n",
              "      <button class=\"colab-df-convert\" onclick=\"convertToInteractive('df-dc1bf82f-e25e-466b-8712-987ac5248697')\"\n",
              "              title=\"Convert this dataframe to an interactive table.\"\n",
              "              style=\"display:none;\">\n",
              "        \n",
              "  <svg xmlns=\"http://www.w3.org/2000/svg\" height=\"24px\"viewBox=\"0 0 24 24\"\n",
              "       width=\"24px\">\n",
              "    <path d=\"M0 0h24v24H0V0z\" fill=\"none\"/>\n",
              "    <path d=\"M18.56 5.44l.94 2.06.94-2.06 2.06-.94-2.06-.94-.94-2.06-.94 2.06-2.06.94zm-11 1L8.5 8.5l.94-2.06 2.06-.94-2.06-.94L8.5 2.5l-.94 2.06-2.06.94zm10 10l.94 2.06.94-2.06 2.06-.94-2.06-.94-.94-2.06-.94 2.06-2.06.94z\"/><path d=\"M17.41 7.96l-1.37-1.37c-.4-.4-.92-.59-1.43-.59-.52 0-1.04.2-1.43.59L10.3 9.45l-7.72 7.72c-.78.78-.78 2.05 0 2.83L4 21.41c.39.39.9.59 1.41.59.51 0 1.02-.2 1.41-.59l7.78-7.78 2.81-2.81c.8-.78.8-2.07 0-2.86zM5.41 20L4 18.59l7.72-7.72 1.47 1.35L5.41 20z\"/>\n",
              "  </svg>\n",
              "      </button>\n",
              "      \n",
              "  <style>\n",
              "    .colab-df-container {\n",
              "      display:flex;\n",
              "      flex-wrap:wrap;\n",
              "      gap: 12px;\n",
              "    }\n",
              "\n",
              "    .colab-df-convert {\n",
              "      background-color: #E8F0FE;\n",
              "      border: none;\n",
              "      border-radius: 50%;\n",
              "      cursor: pointer;\n",
              "      display: none;\n",
              "      fill: #1967D2;\n",
              "      height: 32px;\n",
              "      padding: 0 0 0 0;\n",
              "      width: 32px;\n",
              "    }\n",
              "\n",
              "    .colab-df-convert:hover {\n",
              "      background-color: #E2EBFA;\n",
              "      box-shadow: 0px 1px 2px rgba(60, 64, 67, 0.3), 0px 1px 3px 1px rgba(60, 64, 67, 0.15);\n",
              "      fill: #174EA6;\n",
              "    }\n",
              "\n",
              "    [theme=dark] .colab-df-convert {\n",
              "      background-color: #3B4455;\n",
              "      fill: #D2E3FC;\n",
              "    }\n",
              "\n",
              "    [theme=dark] .colab-df-convert:hover {\n",
              "      background-color: #434B5C;\n",
              "      box-shadow: 0px 1px 3px 1px rgba(0, 0, 0, 0.15);\n",
              "      filter: drop-shadow(0px 1px 2px rgba(0, 0, 0, 0.3));\n",
              "      fill: #FFFFFF;\n",
              "    }\n",
              "  </style>\n",
              "\n",
              "      <script>\n",
              "        const buttonEl =\n",
              "          document.querySelector('#df-dc1bf82f-e25e-466b-8712-987ac5248697 button.colab-df-convert');\n",
              "        buttonEl.style.display =\n",
              "          google.colab.kernel.accessAllowed ? 'block' : 'none';\n",
              "\n",
              "        async function convertToInteractive(key) {\n",
              "          const element = document.querySelector('#df-dc1bf82f-e25e-466b-8712-987ac5248697');\n",
              "          const dataTable =\n",
              "            await google.colab.kernel.invokeFunction('convertToInteractive',\n",
              "                                                     [key], {});\n",
              "          if (!dataTable) return;\n",
              "\n",
              "          const docLinkHtml = 'Like what you see? Visit the ' +\n",
              "            '<a target=\"_blank\" href=https://colab.research.google.com/notebooks/data_table.ipynb>data table notebook</a>'\n",
              "            + ' to learn more about interactive tables.';\n",
              "          element.innerHTML = '';\n",
              "          dataTable['output_type'] = 'display_data';\n",
              "          await google.colab.output.renderOutput(dataTable, element);\n",
              "          const docLink = document.createElement('div');\n",
              "          docLink.innerHTML = docLinkHtml;\n",
              "          element.appendChild(docLink);\n",
              "        }\n",
              "      </script>\n",
              "    </div>\n",
              "  </div>\n",
              "  "
            ]
          },
          "metadata": {},
          "execution_count": 3
        }
      ]
    },
    {
      "cell_type": "code",
      "source": [
        "# Creating features dataset\n",
        "filepath = '/content/drive/MyDrive/IHS_Mexico_2022-01-17_1.csv'\n",
        "feat_df = pd.read_csv(filepath)\n",
        "'''\n",
        "Here we'll first undergo a variety of Dimensionality-reduction techniques to pass on only limited IHS features for feature-selection:\n",
        "  1. Removing \"_annual\" features\n",
        "  2. High Covariance Filter on \"_month\" features\n",
        "  3. High Covariance Filter on \"_quarter\" features\n",
        "  4. Similar looking \"_month\" and \"_quarter\" features--> dropped \"_quarter\" ones since \"_month\" ones are more granular\n",
        "  5. Similar looking \"_month\" features\n",
        "  6. Similar looking \"_quarter\" features\n",
        "  7. Low variance filter on \"_month\" and \"_quarter\" features\n",
        "\n",
        "Ordering in which these steps are applied, matters a lot!\n",
        "'''\n",
        "\n",
        "#--\n",
        "\n",
        "#adding date column, dropping unnecessary ones\n",
        "feat_df['date_month'] = pd.to_datetime(feat_df['Period'])\n",
        "feat_df = feat_df.drop(['Geography', 'Period'], axis= 1)\n",
        "print('Original features dataset shape:', feat_df.shape)\n",
        "\n",
        "#--\n",
        "\n",
        "#dropping all \"_annual\" features-- none of annual features will be of use as at max we'd have 5 unique values from 2018-2022\n",
        "drop_list = []\n",
        "for col in feat_df.columns:\n",
        "  if '_annual' in col.lower(): drop_list.append(col)\n",
        "\n",
        "feat_df = feat_df.drop(drop_list, axis= 1)\n",
        "print('Dropped {} \"_annual\" features from the dataset. Now {} features remain\\n'.format(len(drop_list), len(feat_df.columns)))\n",
        "\n",
        "#--\n",
        "\n",
        "#dropping self-correlated monthly features-- removing monthly features which have a high correlation amongst them\n",
        "correlation_factor = 0.9\n",
        "month_feat = []\n",
        "for col in feat_df.columns:\n",
        "  if '_month' in col.lower(): month_feat.append(col)\n",
        "print('Evaluating {} \"_month\" features for correlation'.format(len(month_feat)))\n",
        "\n",
        "df_ = feat_df[month_feat]\n",
        "##plotting the correlation matrix\n",
        "corr_matrix = df_.corr().abs()\n",
        "##focussing only on the upper triangular matrix\n",
        "upper = corr_matrix.where(np.triu(np.ones(corr_matrix.shape), k=1).astype(np.bool))\n",
        "##plot the upper-triangular/correlation matrix using below code\n",
        "##plt.figure(figsize= (10,8))\n",
        "##sns.heatmap(upper, xticklabels= False)\n",
        "##plt.show()\n",
        "drop_list = [column for column in upper.columns if any(upper[column] > correlation_factor)]\n",
        "\n",
        "feat_df = feat_df.drop(drop_list, axis= 1)\n",
        "print('Dropped {} \"_month\" features from the dataset. Now {} features remain\\n'.format(len(drop_list), len(feat_df.columns)))\n",
        "\n",
        "#--\n",
        "\n",
        "#dropping self-correlated quarterly features-- removing quarterly features which have a high correlation amongst them\n",
        "correlation_factor = 0.9\n",
        "quarter_feat = []\n",
        "for col in feat_df.columns:\n",
        "  if '_quarter' in col.lower(): quarter_feat.append(col)\n",
        "print('Evaluating {} \"_quarter\" features for correlation'.format(len(quarter_feat)))\n",
        "\n",
        "df_ = feat_df[quarter_feat]\n",
        "corr_matrix = df_.corr().abs()\n",
        "upper = corr_matrix.where(np.triu(np.ones(corr_matrix.shape), k=1).astype(np.bool))\n",
        "drop_list = [column for column in upper.columns if any(upper[column] > correlation_factor)]\n",
        "\n",
        "feat_df = feat_df.drop(drop_list, axis= 1)\n",
        "print('Dropped {} \"_quarter\" features from the dataset. Now {} features remain\\n'.format(len(drop_list), len(feat_df.columns)))\n",
        "\n",
        "#--\n",
        "\n",
        "#dropping those quarterly features which have similar looking monthly features available\n",
        "month_feat, quarter_feat = [], []\n",
        "for col in feat_df.columns:\n",
        "  if '_month' in col.lower(): month_feat.append(col)\n",
        "  elif '_quarter' in col.lower(): quarter_feat.append(col)\n",
        "\n",
        "  ##writing a function to drop similar looking features at multiple levels\n",
        "def drop_similar_features(df, level1, level2, grade= 70, show_tree= True):\n",
        "  sim_dict = {}\n",
        "  for i in level1:\n",
        "    ###say if month features are compared against quarter features for similarity\n",
        "    if level1 != level2:\n",
        "      for j in level2:\n",
        "        if fuzz.ratio(i, j) > grade: sim_dict[i] = sim_dict.get(i, []) + [j]\n",
        "\n",
        "    ###say if month features are compared against month features for similarity\n",
        "    elif level1 == level2:\n",
        "      for j in level1[level1.index(i)+1:]:\n",
        "        if fuzz.ratio(i, j) > grade: sim_dict[i] = sim_dict.get(i, []) + [j]\n",
        "\n",
        "  ##visualizing results via similarity tree-- totally independent component\n",
        "  tree = Tree()\n",
        "  tree.create_node('SIMILARITY TREE', 'root')\n",
        "  for key in sim_dict.keys():\n",
        "    tree.create_node(key, key.upper(), parent= 'root')\n",
        "\n",
        "  start = 0\n",
        "  for item in sim_dict.items():\n",
        "    for val in item[1]:\n",
        "      tree.create_node(val, val.upper()+'_'+str(start), parent = item[0].upper())\n",
        "    start+= 1\n",
        "  if show_tree:\n",
        "    tree.show()\n",
        "\n",
        "  drop_list = []\n",
        "  for val in sim_dict.values():\n",
        "    drop_list += val\n",
        "    ##the dropping procedure has to be made immune incase the column does not exist in the dataset\n",
        "  drop_list = list(set(drop_list))\n",
        "  for col in drop_list:\n",
        "    if col in df.columns: df = df.drop(col, axis= 1)\n",
        "  print('Dropped {} similar looking features from the dataset. Now {} features remain\\n'.format(len(drop_list), len(df.columns)))\n",
        "  return df\n",
        "\n",
        "print('Evaluating {} \"_month\" and {} \"_quarter\" features for similarity'.format(len(month_feat), len(quarter_feat)))\n",
        "feat_df = drop_similar_features(feat_df, month_feat, quarter_feat, grade= 70, show_tree= True)\n",
        "\n",
        "#--\n",
        "\n",
        "#dropping those monthly, quarterly features which have self-similar looking features available\n",
        "month_feat, quarter_feat = [], []\n",
        "for col in feat_df.columns:\n",
        "  if '_month' in col.lower(): month_feat.append(col)\n",
        "  elif '_quarter' in col.lower(): quarter_feat.append(col)\n",
        "\n",
        "print('Evaluating {} \"_month\" features for self-similarity'.format(len(month_feat)))\n",
        "feat_df = drop_similar_features(feat_df, month_feat, month_feat, grade= 70, show_tree= True)\n",
        "\n",
        "print('Evaluating {} \"_quarter\" features for self-similarity'.format(len(quarter_feat)))\n",
        "feat_df = drop_similar_features(feat_df, quarter_feat, quarter_feat, grade= 70, show_tree= True)\n",
        "\n",
        "#--\n",
        "\n",
        "#applying Low Variance Filter on remaining features-- removes features whose value does change/stays constant over time\n",
        "minimum_variance_filter = 0.1\n",
        "variance_dict = {}\n",
        "for col in [x for x in feat_df if x not in ['date_month']]:\n",
        "  variance_dict[col] = variance_dict.get(col, feat_df[col].var())\n",
        "\n",
        "print('Evaluating {} features for low variance'.format(len(feat_df.columns)))\n",
        "drop_list = []\n",
        "for item in variance_dict.items():\n",
        "  if item[1] <= minimum_variance_filter: drop_list.append(item[0])\n",
        "\n",
        "feat_df = feat_df.drop(drop_list, axis= 1)\n",
        "print('Dropped {} features from the dataset. Now {} features remain\\n'.format(len(drop_list), len(feat_df.columns)))\n",
        "\n",
        "#--\n",
        "\n",
        "#joining the features dataset with the volumes dataset\n",
        "df['month'] = df['date'].dt.month\n",
        "df['year'] = df['date'].dt.year\n",
        "df['day'] = 1\n",
        "  ##we need to create a date_month column in df to be able to join, because feat_df is at a monthly level\n",
        "df['date_month'] = pd.to_datetime(df[['year', 'month', 'day']])\n",
        "df = df.drop(['year', 'month', 'day'], axis= 1)\n",
        "\n",
        "print('Merging features into main dataset')\n",
        "df = pd.merge(df, feat_df, how= 'inner', on= 'date_month')\n",
        "  ##droping date_month column, as it is no longer needed. Now the length of feat_df.columns will reduce by 1\n",
        "df = df.drop('date_month', axis= 1)\n",
        "\n",
        "#--\n",
        "\n",
        "#taking backup\n",
        "df_main = df.copy(deep= True)\n",
        "df"
      ],
      "metadata": {
        "id": "Hb9YsAwIF-fG",
        "colab": {
          "base_uri": "https://localhost:8080/",
          "height": 1000
        },
        "outputId": "0a0ffefd-2d90-4f88-ef56-1f81bfe9debc"
      },
      "execution_count": null,
      "outputs": [
        {
          "output_type": "display_data",
          "data": {
            "text/plain": [
              "<IPython.core.display.Javascript object>"
            ],
            "application/javascript": [
              "\n",
              "        if (window._pyforest_update_imports_cell) { window._pyforest_update_imports_cell('import numpy as np\\nimport pandas as pd'); }\n",
              "    "
            ]
          },
          "metadata": {}
        },
        {
          "output_type": "display_data",
          "data": {
            "text/plain": [
              "<IPython.core.display.Javascript object>"
            ],
            "application/javascript": [
              "\n",
              "        if (window._pyforest_update_imports_cell) { window._pyforest_update_imports_cell('import numpy as np\\nimport pandas as pd'); }\n",
              "    "
            ]
          },
          "metadata": {}
        },
        {
          "output_type": "stream",
          "name": "stdout",
          "text": [
            "Original features dataset shape: (109, 978)\n",
            "Dropped 656 \"_annual\" features from the dataset. Now 322 features remain\n",
            "\n",
            "Evaluating 37 \"_month\" features for correlation\n"
          ]
        },
        {
          "output_type": "display_data",
          "data": {
            "text/plain": [
              "<IPython.core.display.Javascript object>"
            ],
            "application/javascript": [
              "\n",
              "        if (window._pyforest_update_imports_cell) { window._pyforest_update_imports_cell('import numpy as np\\nimport pandas as pd'); }\n",
              "    "
            ]
          },
          "metadata": {}
        },
        {
          "output_type": "display_data",
          "data": {
            "text/plain": [
              "<IPython.core.display.Javascript object>"
            ],
            "application/javascript": [
              "\n",
              "        if (window._pyforest_update_imports_cell) { window._pyforest_update_imports_cell('import numpy as np\\nimport pandas as pd'); }\n",
              "    "
            ]
          },
          "metadata": {}
        },
        {
          "output_type": "display_data",
          "data": {
            "text/plain": [
              "<IPython.core.display.Javascript object>"
            ],
            "application/javascript": [
              "\n",
              "        if (window._pyforest_update_imports_cell) { window._pyforest_update_imports_cell('import numpy as np\\nimport pandas as pd'); }\n",
              "    "
            ]
          },
          "metadata": {}
        },
        {
          "output_type": "stream",
          "name": "stdout",
          "text": [
            "Dropped 21 \"_month\" features from the dataset. Now 301 features remain\n",
            "\n",
            "Evaluating 285 \"_quarter\" features for correlation\n"
          ]
        },
        {
          "output_type": "display_data",
          "data": {
            "text/plain": [
              "<IPython.core.display.Javascript object>"
            ],
            "application/javascript": [
              "\n",
              "        if (window._pyforest_update_imports_cell) { window._pyforest_update_imports_cell('import numpy as np\\nimport pandas as pd'); }\n",
              "    "
            ]
          },
          "metadata": {}
        },
        {
          "output_type": "display_data",
          "data": {
            "text/plain": [
              "<IPython.core.display.Javascript object>"
            ],
            "application/javascript": [
              "\n",
              "        if (window._pyforest_update_imports_cell) { window._pyforest_update_imports_cell('import numpy as np\\nimport pandas as pd'); }\n",
              "    "
            ]
          },
          "metadata": {}
        },
        {
          "output_type": "display_data",
          "data": {
            "text/plain": [
              "<IPython.core.display.Javascript object>"
            ],
            "application/javascript": [
              "\n",
              "        if (window._pyforest_update_imports_cell) { window._pyforest_update_imports_cell('import numpy as np\\nimport pandas as pd'); }\n",
              "    "
            ]
          },
          "metadata": {}
        },
        {
          "output_type": "stream",
          "name": "stdout",
          "text": [
            "Dropped 220 \"_quarter\" features from the dataset. Now 81 features remain\n",
            "\n",
            "Evaluating 16 \"_month\" and 65 \"_quarter\" features for similarity\n",
            "SIMILARITY TREE\n",
            "├── Consumer Price Index_ Dollar Basis_ Year-on-Year Percent Change_Monthly\n",
            "│   ├── Consumer Price Index_ Dollar Basis_ Quarter-on-Quarter_ SAAR_ Percent Change_Quarterly\n",
            "│   ├── Consumer Price Index_ Dollar Basis_ Year-on-Year Percent Change_Quarterly\n",
            "│   ├── Consumer Price Index_ Dollar Basis_Quarterly\n",
            "│   ├── Consumer Price Index_ Quarter-on-Quarter_ SAAR_ Percent Change_Quarterly\n",
            "│   ├── Consumer Price Index_ Year-on-Year Percent Change_Quarterly\n",
            "│   └── Wholesale-Producer Price Index_ Year-on-Year Percent Change_Quarterly\n",
            "├── Consumer Price Index_ Dollar Basis_Monthly\n",
            "│   ├── Consumer Price Index_ Dollar Basis_ Year-on-Year Percent Change_Quarterly\n",
            "│   └── Consumer Price Index_ Dollar Basis_Quarterly\n",
            "├── Consumer Price Index_ Year-on-Year Percent Change_Monthly\n",
            "│   ├── Consumer Price Index_ Dollar Basis_ Year-on-Year Percent Change_Quarterly\n",
            "│   ├── Consumer Price Index_ Quarter-on-Quarter_ SAAR_ Percent Change_Quarterly\n",
            "│   ├── Consumer Price Index_ Year-on-Year Percent Change_Quarterly\n",
            "│   └── Wholesale-Producer Price Index_ Year-on-Year Percent Change_Quarterly\n",
            "├── Exchange Rate Index_ Period Average (LCU per US$)_Monthly\n",
            "│   └── Exchange Rate Index_ Period Average (LCU per US$)_Quarterly\n",
            "├── Growth Rate_ Industrial Production_ Year-on-Year Percent Change_Monthly\n",
            "│   └── Gross Domestic Product Deflator_ Year-on-Year Percent Change_Quarterly\n",
            "├── Growth Rate_ Nominal Retail Sales Index_ US$_ Year-on-Year Percent Change_Monthly\n",
            "│   └── Growth Rate: International Reserves Excluding Gold_ US$_ Year-on-Year Percent Change_Quarterly\n",
            "├── Index_ Retail Sales_ Real (Volume)_Monthly\n",
            "│   └── Index_ Retail Sales_ Real (Volume)_Quarterly\n",
            "├── Industrial Production Index_Monthly\n",
            "│   └── Industrial Production Index_Quarterly\n",
            "├── Interest Rate Spread: Long-Term minus Short-Term_Monthly\n",
            "│   └── Interest Rate Spread: Long-Term minus Short-Term_Quarterly\n",
            "├── Interest Rate: Long Term_Monthly\n",
            "│   └── Interest Rate: Long Term_Quarterly\n",
            "├── Interest Rate: Short Term_ Real_Monthly\n",
            "│   └── Interest Rate: Short Term_ Real_Quarterly\n",
            "└── Wholesale-Producer Price Index_ Year-on-Year Percent Change_Monthly\n",
            "    ├── Consumer Price Index_ Dollar Basis_ Year-on-Year Percent Change_Quarterly\n",
            "    ├── Consumer Price Index_ Year-on-Year Percent Change_Quarterly\n",
            "    ├── Wholesale-Producer Price Index_ LCU basis_ Quarter-on-Quarter_ SAAR_ Percent Change_Quarterly\n",
            "    └── Wholesale-Producer Price Index_ Year-on-Year Percent Change_Quarterly\n",
            "\n",
            "Dropped 15 similar looking features from the dataset. Now 66 features remain\n",
            "\n",
            "Evaluating 16 \"_month\" features for self-similarity\n",
            "SIMILARITY TREE\n",
            "├── Consumer Price Index_ Dollar Basis_ Year-on-Year Percent Change_Monthly\n",
            "│   ├── Consumer Price Index_ Year-on-Year Percent Change_Monthly\n",
            "│   └── Wholesale-Producer Price Index_ Year-on-Year Percent Change_Monthly\n",
            "├── Consumer Price Index_ Dollar Basis_Monthly\n",
            "│   ├── Consumer Price Index_ Dollar Basis_ Year-on-Year Percent Change_Monthly\n",
            "│   └── Consumer Price Index_ Year-on-Year Percent Change_Monthly\n",
            "├── Consumer Price Index_ Year-on-Year Percent Change_Monthly\n",
            "│   └── Wholesale-Producer Price Index_ Year-on-Year Percent Change_Monthly\n",
            "├── Consumer Price Index_Monthly\n",
            "│   └── Consumer Price Index_ Dollar Basis_Monthly\n",
            "├── Growth Rate_ Industrial Production_ Year-on-Year Percent Change_Monthly\n",
            "│   ├── Growth Rate_ Nominal Retail Sales Index_ US$_ Year-on-Year Percent Change_Monthly\n",
            "│   └── Wholesale-Producer Price Index_ Year-on-Year Percent Change_Monthly\n",
            "├── Interest Rate Spread: Long-Term minus Short-Term_Monthly\n",
            "│   └── Interest Rate: Long Term_Monthly\n",
            "├── Interest Rate: Long Term_Monthly\n",
            "│   ├── Interest Rate: Policy_Monthly\n",
            "│   └── Interest Rate: Short Term_ Real_Monthly\n",
            "└── Interest Rate: Policy_Monthly\n",
            "    └── Interest Rate: Short Term_ Real_Monthly\n",
            "\n",
            "Dropped 8 similar looking features from the dataset. Now 58 features remain\n",
            "\n",
            "Evaluating 50 \"_quarter\" features for self-similarity\n",
            "SIMILARITY TREE\n",
            "├── BOP Goods Balance_ % of GDP_Quarterly\n",
            "│   ├── BOP Goods Exports_ % of GDP_Quarterly\n",
            "│   └── BOP Goods Imports_ % of GDP_Quarterly\n",
            "├── BOP Goods Exports_ % of GDP_Quarterly\n",
            "│   ├── BOP Goods Exports_ Percent of World Exports_Quarterly\n",
            "│   ├── BOP Goods Exports_ US$_Quarterly\n",
            "│   └── BOP Goods Imports_ % of GDP_Quarterly\n",
            "├── BOP Goods Exports_ US$_ Growth Rate_ Quarter-on-Quarter_ SAAR_Quarterly\n",
            "│   ├── BOP Goods Exports_ US$_ Growth Rate_ Year-on-Year_Quarterly\n",
            "│   ├── BOP Goods Imports_ US$_ Growth Rate_ Quarter-on-Quarter_ SAAR_Quarterly\n",
            "│   ├── BOP Goods Imports_ US$_ Growth Rate_ Year-on-Year_Quarterly\n",
            "│   ├── Nominal GDP in Euros_ Growth Rate_ Quarter-on-Quarter_ SAAR_Quarterly\n",
            "│   ├── Nominal NIA Imports in Euros_ Growth Rate_ Quarter-on-Quarter_ SAAR_Quarterly\n",
            "│   ├── Nominal NIA Imports in LCU_ Growth Rate_ Quarter-on-Quarter_ SAAR_Quarterly\n",
            "│   └── Real $ Government Consumption_ Growth Rate_ Quarter-on-Quarter_ SAAR_Quarterly\n",
            "├── BOP Goods Exports_ US$_ Growth Rate_ Year-on-Year_Quarterly\n",
            "│   ├── BOP Goods Imports_ US$_ Growth Rate_ Quarter-on-Quarter_ SAAR_Quarterly\n",
            "│   ├── BOP Goods Imports_ US$_ Growth Rate_ Year-on-Year_Quarterly\n",
            "│   └── Nominal GDP in Euros_ Growth Rate_ Year-on-Year_Quarterly\n",
            "├── BOP Goods Exports_ US$_Quarterly\n",
            "│   ├── BOP Goods Imports_ % of GDP_Quarterly\n",
            "│   └── Real NIA Net Exports_ US$_Quarterly\n",
            "├── BOP Goods Imports_ US$_ Growth Rate_ Quarter-on-Quarter_ SAAR_Quarterly\n",
            "│   ├── BOP Goods Imports_ US$_ Growth Rate_ Year-on-Year_Quarterly\n",
            "│   ├── Nominal GDP in Euros_ Growth Rate_ Quarter-on-Quarter_ SAAR_Quarterly\n",
            "│   ├── Nominal NIA Imports in Euros_ Growth Rate_ Quarter-on-Quarter_ SAAR_Quarterly\n",
            "│   ├── Nominal NIA Imports in LCU_ Growth Rate_ Quarter-on-Quarter_ SAAR_Quarterly\n",
            "│   └── Real $ Government Consumption_ Growth Rate_ Quarter-on-Quarter_ SAAR_Quarterly\n",
            "├── BOP Goods Imports_ US$_ Growth Rate_ Year-on-Year_Quarterly\n",
            "│   ├── Nominal GDP in Euros_ Growth Rate_ Year-on-Year_Quarterly\n",
            "│   └── Nominal Government Consumption in LCU_ Growth Rate_ Year-on-Year_Quarterly\n",
            "├── Deflator: Government Consumption_ euro_Quarterly\n",
            "│   └── Government Consumption_ Year -on- Year_Quarterly\n",
            "├── Domestic Investment Deflator_ Year-on-Year Percent Change_Quarterly\n",
            "│   ├── Fixed Investment Deflator_ Year-on-Year Percent Change_Quarterly\n",
            "│   ├── Government Consumption Deflator_ Year-on-Year Percent Change_Quarterly\n",
            "│   ├── Gross Domestic Demand Deflator_ Year-on-Year Percent Change_Quarterly\n",
            "│   ├── Gross Domestic Product Deflator_ Quarter-on-Quarter Percent Change_ SAAR_Quarterly\n",
            "│   ├── NIA Exports Deflator_ Year-on-Year Percent Change_Quarterly\n",
            "│   └── NIA Imports Deflator_ Year-on-Year Percent Change_Quarterly\n",
            "├── Fixed Investment Deflator_ Year-on-Year Percent Change_Quarterly\n",
            "│   ├── Fixed Investment_ Year -on- Year_Quarterly\n",
            "│   ├── Government Consumption Deflator_ Year-on-Year Percent Change_Quarterly\n",
            "│   ├── Gross Domestic Demand Deflator_ Year-on-Year Percent Change_Quarterly\n",
            "│   ├── NIA Exports Deflator_ Year-on-Year Percent Change_Quarterly\n",
            "│   └── NIA Imports Deflator_ Year-on-Year Percent Change_Quarterly\n",
            "├── Fixed Investment_ Year -on- Year_Quarterly\n",
            "│   ├── Government Consumption_ Year -on- Year_Quarterly\n",
            "│   ├── Inventory Investment_ Year -on- Year_Quarterly\n",
            "│   └── Real Fixed Investment_ Calendar Year_ lcu_Quarterly\n",
            "├── Government Consumption Deflator_ Year-on-Year Percent Change_Quarterly\n",
            "│   ├── Government Consumption_ Year -on- Year_Quarterly\n",
            "│   ├── Gross Domestic Demand Deflator_ Year-on-Year Percent Change_Quarterly\n",
            "│   ├── NIA Exports Deflator_ Year-on-Year Percent Change_Quarterly\n",
            "│   └── NIA Imports Deflator_ Year-on-Year Percent Change_Quarterly\n",
            "├── Government Consumption_ Year -on- Year_Quarterly\n",
            "│   ├── Inventory Investment_ Year -on- Year_Quarterly\n",
            "│   └── Nominal Government Consumption in LCU_ Growth Rate_ Year-on-Year_Quarterly\n",
            "├── Gross Domestic Demand Deflator_ Year-on-Year Percent Change_Quarterly\n",
            "│   ├── Gross Domestic Product Deflator_ Quarter-on-Quarter Percent Change_ SAAR_Quarterly\n",
            "│   ├── NIA Exports Deflator_ Year-on-Year Percent Change_Quarterly\n",
            "│   └── NIA Imports Deflator_ Year-on-Year Percent Change_Quarterly\n",
            "├── Gross Domestic Product Deflator_ Quarter-on-Quarter Percent Change_ SAAR_Quarterly\n",
            "│   ├── NIA Exports Deflator_ Quarter-on-Quarter_ SAAR_ Percent Change_Quarterly\n",
            "│   └── NIA Imports Deflator_ Quarter-on-Quarter_ SAAR_ Percent Change_Quarterly\n",
            "├── Growth Rate_ Broad Money Supply_ Period End_ Quarter-on-Quarter_ SAAR_ Percent Change_ US$_Quarterly\n",
            "│   ├── Growth Rate_ Broad Money Supply_ Period End_ Quarter-on-Quarter_ SAAR_ Percent Change_ lcu_Quarterly\n",
            "│   ├── Growth Rate_ Broad Money Supply_ Period End_ Year-on-Year Percent Change_ US$_Quarterly\n",
            "│   ├── Growth Rate_ Broad Money Supply_ Period End_ Year-on-Year Percent Change_ lcu_Quarterly\n",
            "│   ├── Growth Rate_ Money Supply M1_ Period End_ Quarter-on-Quarter_ SAAR_ Percent Change_ US$_Quarterly\n",
            "│   ├── Growth Rate_ Money Supply M1_ Period End_ Quarter-on-Quarter_ SAAR_ Percent Change_ lcu_Quarterly\n",
            "│   ├── Growth Rate_ Money Supply M1_ Period End_ Year-on-Year Percent Change_ lcu_Quarterly\n",
            "│   └── Growth Rate_ Money Supply M2_ Period End_ Quarter-on-Quarter_ SAAR_ Percent Change_ lcu_Quarterly\n",
            "├── Growth Rate_ Broad Money Supply_ Period End_ Quarter-on-Quarter_ SAAR_ Percent Change_ lcu_Quarterly\n",
            "│   ├── Growth Rate_ Broad Money Supply_ Period End_ Year-on-Year Percent Change_ US$_Quarterly\n",
            "│   ├── Growth Rate_ Broad Money Supply_ Period End_ Year-on-Year Percent Change_ lcu_Quarterly\n",
            "│   ├── Growth Rate_ Money Supply M1_ Period End_ Quarter-on-Quarter_ SAAR_ Percent Change_ US$_Quarterly\n",
            "│   ├── Growth Rate_ Money Supply M1_ Period End_ Quarter-on-Quarter_ SAAR_ Percent Change_ lcu_Quarterly\n",
            "│   ├── Growth Rate_ Money Supply M1_ Period End_ Year-on-Year Percent Change_ lcu_Quarterly\n",
            "│   └── Growth Rate_ Money Supply M2_ Period End_ Quarter-on-Quarter_ SAAR_ Percent Change_ lcu_Quarterly\n",
            "├── Growth Rate_ Broad Money Supply_ Period End_ Year-on-Year Percent Change_ US$_Quarterly\n",
            "│   ├── Growth Rate_ Broad Money Supply_ Period End_ Year-on-Year Percent Change_ lcu_Quarterly\n",
            "│   ├── Growth Rate_ Money Supply M1_ Period End_ Quarter-on-Quarter_ SAAR_ Percent Change_ US$_Quarterly\n",
            "│   ├── Growth Rate_ Money Supply M1_ Period End_ Quarter-on-Quarter_ SAAR_ Percent Change_ lcu_Quarterly\n",
            "│   ├── Growth Rate_ Money Supply M1_ Period End_ Year-on-Year Percent Change_ lcu_Quarterly\n",
            "│   └── Growth Rate_ Money Supply M2_ Period End_ Quarter-on-Quarter_ SAAR_ Percent Change_ lcu_Quarterly\n",
            "├── Growth Rate_ Broad Money Supply_ Period End_ Year-on-Year Percent Change_ lcu_Quarterly\n",
            "│   ├── Growth Rate_ Money Supply M1_ Period End_ Quarter-on-Quarter_ SAAR_ Percent Change_ US$_Quarterly\n",
            "│   ├── Growth Rate_ Money Supply M1_ Period End_ Quarter-on-Quarter_ SAAR_ Percent Change_ lcu_Quarterly\n",
            "│   ├── Growth Rate_ Money Supply M1_ Period End_ Year-on-Year Percent Change_ lcu_Quarterly\n",
            "│   └── Growth Rate_ Money Supply M2_ Period End_ Quarter-on-Quarter_ SAAR_ Percent Change_ lcu_Quarterly\n",
            "├── Growth Rate_ Money Supply M1_ Period End_ Quarter-on-Quarter_ SAAR_ Percent Change_ US$_Quarterly\n",
            "│   ├── Growth Rate_ Money Supply M1_ Period End_ Quarter-on-Quarter_ SAAR_ Percent Change_ lcu_Quarterly\n",
            "│   ├── Growth Rate_ Money Supply M1_ Period End_ Year-on-Year Percent Change_ lcu_Quarterly\n",
            "│   └── Growth Rate_ Money Supply M2_ Period End_ Quarter-on-Quarter_ SAAR_ Percent Change_ lcu_Quarterly\n",
            "├── Growth Rate_ Money Supply M1_ Period End_ Quarter-on-Quarter_ SAAR_ Percent Change_ lcu_Quarterly\n",
            "│   ├── Growth Rate_ Money Supply M1_ Period End_ Year-on-Year Percent Change_ lcu_Quarterly\n",
            "│   └── Growth Rate_ Money Supply M2_ Period End_ Quarter-on-Quarter_ SAAR_ Percent Change_ lcu_Quarterly\n",
            "├── Growth Rate_ Money Supply M1_ Period End_ Year-on-Year Percent Change_ lcu_Quarterly\n",
            "│   └── Growth Rate_ Money Supply M2_ Period End_ Quarter-on-Quarter_ SAAR_ Percent Change_ lcu_Quarterly\n",
            "├── Inventory Investment_ Year -on- Year_Quarterly\n",
            "│   └── Nominal Inventory Investment_ Calendar Year_ lcu_Quarterly\n",
            "├── NIA Exports Deflator_ Quarter-on-Quarter_ SAAR_ Percent Change_Quarterly\n",
            "│   ├── NIA Exports Deflator_ Year-on-Year Percent Change_Quarterly\n",
            "│   ├── NIA Imports Deflator_ Quarter-on-Quarter_ SAAR_ Percent Change_Quarterly\n",
            "│   └── NIA Imports Deflator_ Year-on-Year Percent Change_Quarterly\n",
            "├── NIA Exports Deflator_ Year-on-Year Percent Change_Quarterly\n",
            "│   ├── NIA Imports Deflator_ Quarter-on-Quarter_ SAAR_ Percent Change_Quarterly\n",
            "│   └── NIA Imports Deflator_ Year-on-Year Percent Change_Quarterly\n",
            "├── NIA Imports Deflator_ Quarter-on-Quarter_ SAAR_ Percent Change_Quarterly\n",
            "│   └── NIA Imports Deflator_ Year-on-Year Percent Change_Quarterly\n",
            "├── Nominal GDP in Euros_ Growth Rate_ Quarter-on-Quarter_ SAAR_Quarterly\n",
            "│   ├── Nominal GDP in Euros_ Growth Rate_ Year-on-Year_Quarterly\n",
            "│   ├── Nominal NIA Imports in Euros_ Growth Rate_ Quarter-on-Quarter_ SAAR_Quarterly\n",
            "│   ├── Nominal NIA Imports in LCU_ Growth Rate_ Quarter-on-Quarter_ SAAR_Quarterly\n",
            "│   └── Real $ Government Consumption_ Growth Rate_ Quarter-on-Quarter_ SAAR_Quarterly\n",
            "├── Nominal GDP in Euros_ Growth Rate_ Year-on-Year_Quarterly\n",
            "│   ├── Nominal Government Consumption in LCU_ Growth Rate_ Year-on-Year_Quarterly\n",
            "│   └── Nominal NIA Imports in Euros_ Growth Rate_ Quarter-on-Quarter_ SAAR_Quarterly\n",
            "├── Nominal Government Consumption in LCU_ Growth Rate_ Year-on-Year_Quarterly\n",
            "│   └── Real $ Government Consumption_ Growth Rate_ Quarter-on-Quarter_ SAAR_Quarterly\n",
            "├── Nominal Inventory Investment_ Calendar Year_ lcu_Quarterly\n",
            "│   └── Real Fixed Investment_ Calendar Year_ lcu_Quarterly\n",
            "├── Nominal NIA Imports in Euros_ Growth Rate_ Quarter-on-Quarter_ SAAR_Quarterly\n",
            "│   ├── Nominal NIA Imports in LCU_ Growth Rate_ Quarter-on-Quarter_ SAAR_Quarterly\n",
            "│   └── Real $ Government Consumption_ Growth Rate_ Quarter-on-Quarter_ SAAR_Quarterly\n",
            "├── Nominal NIA Imports in LCU_ Growth Rate_ Quarter-on-Quarter_ SAAR_Quarterly\n",
            "│   └── Real $ Government Consumption_ Growth Rate_ Quarter-on-Quarter_ SAAR_Quarterly\n",
            "└── Nominal NIA Net Exports_ US$_Quarterly\n",
            "    └── Real NIA Net Exports_ US$_Quarterly\n",
            "\n",
            "Dropped 34 similar looking features from the dataset. Now 24 features remain\n",
            "\n",
            "Evaluating 24 features for low variance\n",
            "Dropped 0 features from the dataset. Now 24 features remain\n",
            "\n"
          ]
        },
        {
          "output_type": "display_data",
          "data": {
            "text/plain": [
              "<IPython.core.display.Javascript object>"
            ],
            "application/javascript": [
              "\n",
              "        if (window._pyforest_update_imports_cell) { window._pyforest_update_imports_cell('import numpy as np\\nimport pandas as pd'); }\n",
              "    "
            ]
          },
          "metadata": {}
        },
        {
          "output_type": "stream",
          "name": "stdout",
          "text": [
            "Merging features into main dataset\n"
          ]
        },
        {
          "output_type": "display_data",
          "data": {
            "text/plain": [
              "<IPython.core.display.Javascript object>"
            ],
            "application/javascript": [
              "\n",
              "        if (window._pyforest_update_imports_cell) { window._pyforest_update_imports_cell('import numpy as np\\nimport pandas as pd'); }\n",
              "    "
            ]
          },
          "metadata": {}
        },
        {
          "output_type": "execute_result",
          "data": {
            "text/plain": [
              "        country       date      TPI        DPG  actual_sales  \\\n",
              "0            MX 2018-01-08  3000003  100015989      451.9008   \n",
              "1            MX 2018-01-08  3000003  100015990      265.8240   \n",
              "2            MX 2018-01-08  3000003  100015994      429.4080   \n",
              "3            MX 2018-01-08  3000003  100017727       14.3136   \n",
              "4            MX 2018-01-08  3000003  100195993       97.1280   \n",
              "...         ...        ...      ...        ...           ...   \n",
              "1729586      MX 2021-06-25  3009397       FP10       12.6096   \n",
              "1729587      MX 2021-06-25  3009397       FP29        2.1300   \n",
              "1729588      MX 2021-06-25  3009397       FP30        7.1568   \n",
              "1729589      MX 2021-06-25  3009397       FX00        9.0312   \n",
              "1729590      MX 2021-06-25  3009397       FX04        0.5964   \n",
              "\n",
              "                       key vol_seg cov_seg sub_seg  \\\n",
              "0        3000003:100015989       A       X      AX   \n",
              "1        3000003:100015990       A       X      AX   \n",
              "2        3000003:100015994       A       X      AX   \n",
              "3        3000003:100017727       B       Y      BY   \n",
              "4        3000003:100195993       B       X      BX   \n",
              "...                    ...     ...     ...     ...   \n",
              "1729586       3009397:FP10       C       X      CX   \n",
              "1729587       3009397:FP29       C       W      CW   \n",
              "1729588       3009397:FP30       C       Z      CZ   \n",
              "1729589       3009397:FX00       C       Z      CZ   \n",
              "1729590       3009397:FX04       C       Y      CY   \n",
              "\n",
              "         Consumer Price Index_Monthly  ...  \\\n",
              "0                          112.062265  ...   \n",
              "1                          112.062265  ...   \n",
              "2                          112.062265  ...   \n",
              "3                          112.062265  ...   \n",
              "4                          112.062265  ...   \n",
              "...                               ...  ...   \n",
              "1729586                    129.566002  ...   \n",
              "1729587                    129.566002  ...   \n",
              "1729588                    129.566002  ...   \n",
              "1729589                    129.566002  ...   \n",
              "1729590                    129.566002  ...   \n",
              "\n",
              "         Growth Rate: International Reserves Excluding Gold_ US$_ Quarter-on-Quarter SAAR Percent Change_Quarterly  \\\n",
              "0                                                 4.719787                                                           \n",
              "1                                                 4.719787                                                           \n",
              "2                                                 4.719787                                                           \n",
              "3                                                 4.719787                                                           \n",
              "4                                                 4.719787                                                           \n",
              "...                                                    ...                                                           \n",
              "1729586                                          -0.019143                                                           \n",
              "1729587                                          -0.019143                                                           \n",
              "1729588                                          -0.019143                                                           \n",
              "1729589                                          -0.019143                                                           \n",
              "1729590                                          -0.019143                                                           \n",
              "\n",
              "         Growth Rate_ Broad Money Supply_ Period End_ Quarter-on-Quarter_ SAAR_ Percent Change_ US$_Quarterly  \\\n",
              "0                                                36.824038                                                      \n",
              "1                                                36.824038                                                      \n",
              "2                                                36.824038                                                      \n",
              "3                                                36.824038                                                      \n",
              "4                                                36.824038                                                      \n",
              "...                                                    ...                                                      \n",
              "1729586                                          19.916581                                                      \n",
              "1729587                                          19.916581                                                      \n",
              "1729588                                          19.916581                                                      \n",
              "1729589                                          19.916581                                                      \n",
              "1729590                                          19.916581                                                      \n",
              "\n",
              "         Interest Rate: Money Market_Quarterly  \\\n",
              "0                                     7.750000   \n",
              "1                                     7.750000   \n",
              "2                                     7.750000   \n",
              "3                                     7.750000   \n",
              "4                                     7.750000   \n",
              "...                                        ...   \n",
              "1729586                               4.296667   \n",
              "1729587                               4.296667   \n",
              "1729588                               4.296667   \n",
              "1729589                               4.296667   \n",
              "1729590                               4.296667   \n",
              "\n",
              "         International Reserves Excluding Gold_ US$_Quarterly  \\\n",
              "0                                               172.435033      \n",
              "1                                               172.435033      \n",
              "2                                               172.435033      \n",
              "3                                               172.435033      \n",
              "4                                               172.435033      \n",
              "...                                                    ...      \n",
              "1729586                                         192.774921      \n",
              "1729587                                         192.774921      \n",
              "1729588                                         192.774921      \n",
              "1729589                                         192.774921      \n",
              "1729590                                         192.774921      \n",
              "\n",
              "         M1 as Percent of GDP_Quarterly  \\\n",
              "0                             17.903944   \n",
              "1                             17.903944   \n",
              "2                             17.903944   \n",
              "3                             17.903944   \n",
              "4                             17.903944   \n",
              "...                                 ...   \n",
              "1729586                       22.061034   \n",
              "1729587                       22.061034   \n",
              "1729588                       22.061034   \n",
              "1729589                       22.061034   \n",
              "1729590                       22.061034   \n",
              "\n",
              "         NIA Imports of Goods & Non-Factor Service Deflator_ U.S. Dollar Basis_ Quarter-on-Quarter Percent Change_ SAAR_Quarterly  \\\n",
              "0                                                 3.732021                                                                          \n",
              "1                                                 3.732021                                                                          \n",
              "2                                                 3.732021                                                                          \n",
              "3                                                 3.732021                                                                          \n",
              "4                                                 3.732021                                                                          \n",
              "...                                                    ...                                                                          \n",
              "1729586                                          20.343498                                                                          \n",
              "1729587                                          20.343498                                                                          \n",
              "1729588                                          20.343498                                                                          \n",
              "1729589                                          20.343498                                                                          \n",
              "1729590                                          20.343498                                                                          \n",
              "\n",
              "         NIA Net Exports of Goods & Non-Factor Services_ Year -on- Year_Quarterly  \\\n",
              "0                                                 1.661261                          \n",
              "1                                                 1.661261                          \n",
              "2                                                 1.661261                          \n",
              "3                                                 1.661261                          \n",
              "4                                                 1.661261                          \n",
              "...                                                    ...                          \n",
              "1729586                                         -11.948057                          \n",
              "1729587                                         -11.948057                          \n",
              "1729588                                         -11.948057                          \n",
              "1729589                                         -11.948057                          \n",
              "1729590                                         -11.948057                          \n",
              "\n",
              "         Nominal Fixed Investment_ US$_Quarterly  \\\n",
              "0                                     270.140997   \n",
              "1                                     270.140997   \n",
              "2                                     270.140997   \n",
              "3                                     270.140997   \n",
              "4                                     270.140997   \n",
              "...                                          ...   \n",
              "1729586                               246.395835   \n",
              "1729587                               246.395835   \n",
              "1729588                               246.395835   \n",
              "1729589                               246.395835   \n",
              "1729590                               246.395835   \n",
              "\n",
              "         Nominal NIA Net Exports_ US$_Quarterly  Unemployment Rate_Quarterly  \n",
              "0                                    -15.597644                     3.323935  \n",
              "1                                    -15.597644                     3.323935  \n",
              "2                                    -15.597644                     3.323935  \n",
              "3                                    -15.597644                     3.323935  \n",
              "4                                    -15.597644                     3.323935  \n",
              "...                                         ...                          ...  \n",
              "1729586                               -4.692918                     4.198290  \n",
              "1729587                               -4.692918                     4.198290  \n",
              "1729588                               -4.692918                     4.198290  \n",
              "1729589                               -4.692918                     4.198290  \n",
              "1729590                               -4.692918                     4.198290  \n",
              "\n",
              "[1729591 rows x 32 columns]"
            ],
            "text/html": [
              "\n",
              "  <div id=\"df-4d48278e-1a16-4a99-a33b-1188d30afae6\">\n",
              "    <div class=\"colab-df-container\">\n",
              "      <div>\n",
              "<style scoped>\n",
              "    .dataframe tbody tr th:only-of-type {\n",
              "        vertical-align: middle;\n",
              "    }\n",
              "\n",
              "    .dataframe tbody tr th {\n",
              "        vertical-align: top;\n",
              "    }\n",
              "\n",
              "    .dataframe thead th {\n",
              "        text-align: right;\n",
              "    }\n",
              "</style>\n",
              "<table border=\"1\" class=\"dataframe\">\n",
              "  <thead>\n",
              "    <tr style=\"text-align: right;\">\n",
              "      <th></th>\n",
              "      <th>country</th>\n",
              "      <th>date</th>\n",
              "      <th>TPI</th>\n",
              "      <th>DPG</th>\n",
              "      <th>actual_sales</th>\n",
              "      <th>key</th>\n",
              "      <th>vol_seg</th>\n",
              "      <th>cov_seg</th>\n",
              "      <th>sub_seg</th>\n",
              "      <th>Consumer Price Index_Monthly</th>\n",
              "      <th>...</th>\n",
              "      <th>Growth Rate: International Reserves Excluding Gold_ US$_ Quarter-on-Quarter SAAR Percent Change_Quarterly</th>\n",
              "      <th>Growth Rate_ Broad Money Supply_ Period End_ Quarter-on-Quarter_ SAAR_ Percent Change_ US$_Quarterly</th>\n",
              "      <th>Interest Rate: Money Market_Quarterly</th>\n",
              "      <th>International Reserves Excluding Gold_ US$_Quarterly</th>\n",
              "      <th>M1 as Percent of GDP_Quarterly</th>\n",
              "      <th>NIA Imports of Goods &amp; Non-Factor Service Deflator_ U.S. Dollar Basis_ Quarter-on-Quarter Percent Change_ SAAR_Quarterly</th>\n",
              "      <th>NIA Net Exports of Goods &amp; Non-Factor Services_ Year -on- Year_Quarterly</th>\n",
              "      <th>Nominal Fixed Investment_ US$_Quarterly</th>\n",
              "      <th>Nominal NIA Net Exports_ US$_Quarterly</th>\n",
              "      <th>Unemployment Rate_Quarterly</th>\n",
              "    </tr>\n",
              "  </thead>\n",
              "  <tbody>\n",
              "    <tr>\n",
              "      <th>0</th>\n",
              "      <td>MX</td>\n",
              "      <td>2018-01-08</td>\n",
              "      <td>3000003</td>\n",
              "      <td>100015989</td>\n",
              "      <td>451.9008</td>\n",
              "      <td>3000003:100015989</td>\n",
              "      <td>A</td>\n",
              "      <td>X</td>\n",
              "      <td>AX</td>\n",
              "      <td>112.062265</td>\n",
              "      <td>...</td>\n",
              "      <td>4.719787</td>\n",
              "      <td>36.824038</td>\n",
              "      <td>7.750000</td>\n",
              "      <td>172.435033</td>\n",
              "      <td>17.903944</td>\n",
              "      <td>3.732021</td>\n",
              "      <td>1.661261</td>\n",
              "      <td>270.140997</td>\n",
              "      <td>-15.597644</td>\n",
              "      <td>3.323935</td>\n",
              "    </tr>\n",
              "    <tr>\n",
              "      <th>1</th>\n",
              "      <td>MX</td>\n",
              "      <td>2018-01-08</td>\n",
              "      <td>3000003</td>\n",
              "      <td>100015990</td>\n",
              "      <td>265.8240</td>\n",
              "      <td>3000003:100015990</td>\n",
              "      <td>A</td>\n",
              "      <td>X</td>\n",
              "      <td>AX</td>\n",
              "      <td>112.062265</td>\n",
              "      <td>...</td>\n",
              "      <td>4.719787</td>\n",
              "      <td>36.824038</td>\n",
              "      <td>7.750000</td>\n",
              "      <td>172.435033</td>\n",
              "      <td>17.903944</td>\n",
              "      <td>3.732021</td>\n",
              "      <td>1.661261</td>\n",
              "      <td>270.140997</td>\n",
              "      <td>-15.597644</td>\n",
              "      <td>3.323935</td>\n",
              "    </tr>\n",
              "    <tr>\n",
              "      <th>2</th>\n",
              "      <td>MX</td>\n",
              "      <td>2018-01-08</td>\n",
              "      <td>3000003</td>\n",
              "      <td>100015994</td>\n",
              "      <td>429.4080</td>\n",
              "      <td>3000003:100015994</td>\n",
              "      <td>A</td>\n",
              "      <td>X</td>\n",
              "      <td>AX</td>\n",
              "      <td>112.062265</td>\n",
              "      <td>...</td>\n",
              "      <td>4.719787</td>\n",
              "      <td>36.824038</td>\n",
              "      <td>7.750000</td>\n",
              "      <td>172.435033</td>\n",
              "      <td>17.903944</td>\n",
              "      <td>3.732021</td>\n",
              "      <td>1.661261</td>\n",
              "      <td>270.140997</td>\n",
              "      <td>-15.597644</td>\n",
              "      <td>3.323935</td>\n",
              "    </tr>\n",
              "    <tr>\n",
              "      <th>3</th>\n",
              "      <td>MX</td>\n",
              "      <td>2018-01-08</td>\n",
              "      <td>3000003</td>\n",
              "      <td>100017727</td>\n",
              "      <td>14.3136</td>\n",
              "      <td>3000003:100017727</td>\n",
              "      <td>B</td>\n",
              "      <td>Y</td>\n",
              "      <td>BY</td>\n",
              "      <td>112.062265</td>\n",
              "      <td>...</td>\n",
              "      <td>4.719787</td>\n",
              "      <td>36.824038</td>\n",
              "      <td>7.750000</td>\n",
              "      <td>172.435033</td>\n",
              "      <td>17.903944</td>\n",
              "      <td>3.732021</td>\n",
              "      <td>1.661261</td>\n",
              "      <td>270.140997</td>\n",
              "      <td>-15.597644</td>\n",
              "      <td>3.323935</td>\n",
              "    </tr>\n",
              "    <tr>\n",
              "      <th>4</th>\n",
              "      <td>MX</td>\n",
              "      <td>2018-01-08</td>\n",
              "      <td>3000003</td>\n",
              "      <td>100195993</td>\n",
              "      <td>97.1280</td>\n",
              "      <td>3000003:100195993</td>\n",
              "      <td>B</td>\n",
              "      <td>X</td>\n",
              "      <td>BX</td>\n",
              "      <td>112.062265</td>\n",
              "      <td>...</td>\n",
              "      <td>4.719787</td>\n",
              "      <td>36.824038</td>\n",
              "      <td>7.750000</td>\n",
              "      <td>172.435033</td>\n",
              "      <td>17.903944</td>\n",
              "      <td>3.732021</td>\n",
              "      <td>1.661261</td>\n",
              "      <td>270.140997</td>\n",
              "      <td>-15.597644</td>\n",
              "      <td>3.323935</td>\n",
              "    </tr>\n",
              "    <tr>\n",
              "      <th>...</th>\n",
              "      <td>...</td>\n",
              "      <td>...</td>\n",
              "      <td>...</td>\n",
              "      <td>...</td>\n",
              "      <td>...</td>\n",
              "      <td>...</td>\n",
              "      <td>...</td>\n",
              "      <td>...</td>\n",
              "      <td>...</td>\n",
              "      <td>...</td>\n",
              "      <td>...</td>\n",
              "      <td>...</td>\n",
              "      <td>...</td>\n",
              "      <td>...</td>\n",
              "      <td>...</td>\n",
              "      <td>...</td>\n",
              "      <td>...</td>\n",
              "      <td>...</td>\n",
              "      <td>...</td>\n",
              "      <td>...</td>\n",
              "      <td>...</td>\n",
              "    </tr>\n",
              "    <tr>\n",
              "      <th>1729586</th>\n",
              "      <td>MX</td>\n",
              "      <td>2021-06-25</td>\n",
              "      <td>3009397</td>\n",
              "      <td>FP10</td>\n",
              "      <td>12.6096</td>\n",
              "      <td>3009397:FP10</td>\n",
              "      <td>C</td>\n",
              "      <td>X</td>\n",
              "      <td>CX</td>\n",
              "      <td>129.566002</td>\n",
              "      <td>...</td>\n",
              "      <td>-0.019143</td>\n",
              "      <td>19.916581</td>\n",
              "      <td>4.296667</td>\n",
              "      <td>192.774921</td>\n",
              "      <td>22.061034</td>\n",
              "      <td>20.343498</td>\n",
              "      <td>-11.948057</td>\n",
              "      <td>246.395835</td>\n",
              "      <td>-4.692918</td>\n",
              "      <td>4.198290</td>\n",
              "    </tr>\n",
              "    <tr>\n",
              "      <th>1729587</th>\n",
              "      <td>MX</td>\n",
              "      <td>2021-06-25</td>\n",
              "      <td>3009397</td>\n",
              "      <td>FP29</td>\n",
              "      <td>2.1300</td>\n",
              "      <td>3009397:FP29</td>\n",
              "      <td>C</td>\n",
              "      <td>W</td>\n",
              "      <td>CW</td>\n",
              "      <td>129.566002</td>\n",
              "      <td>...</td>\n",
              "      <td>-0.019143</td>\n",
              "      <td>19.916581</td>\n",
              "      <td>4.296667</td>\n",
              "      <td>192.774921</td>\n",
              "      <td>22.061034</td>\n",
              "      <td>20.343498</td>\n",
              "      <td>-11.948057</td>\n",
              "      <td>246.395835</td>\n",
              "      <td>-4.692918</td>\n",
              "      <td>4.198290</td>\n",
              "    </tr>\n",
              "    <tr>\n",
              "      <th>1729588</th>\n",
              "      <td>MX</td>\n",
              "      <td>2021-06-25</td>\n",
              "      <td>3009397</td>\n",
              "      <td>FP30</td>\n",
              "      <td>7.1568</td>\n",
              "      <td>3009397:FP30</td>\n",
              "      <td>C</td>\n",
              "      <td>Z</td>\n",
              "      <td>CZ</td>\n",
              "      <td>129.566002</td>\n",
              "      <td>...</td>\n",
              "      <td>-0.019143</td>\n",
              "      <td>19.916581</td>\n",
              "      <td>4.296667</td>\n",
              "      <td>192.774921</td>\n",
              "      <td>22.061034</td>\n",
              "      <td>20.343498</td>\n",
              "      <td>-11.948057</td>\n",
              "      <td>246.395835</td>\n",
              "      <td>-4.692918</td>\n",
              "      <td>4.198290</td>\n",
              "    </tr>\n",
              "    <tr>\n",
              "      <th>1729589</th>\n",
              "      <td>MX</td>\n",
              "      <td>2021-06-25</td>\n",
              "      <td>3009397</td>\n",
              "      <td>FX00</td>\n",
              "      <td>9.0312</td>\n",
              "      <td>3009397:FX00</td>\n",
              "      <td>C</td>\n",
              "      <td>Z</td>\n",
              "      <td>CZ</td>\n",
              "      <td>129.566002</td>\n",
              "      <td>...</td>\n",
              "      <td>-0.019143</td>\n",
              "      <td>19.916581</td>\n",
              "      <td>4.296667</td>\n",
              "      <td>192.774921</td>\n",
              "      <td>22.061034</td>\n",
              "      <td>20.343498</td>\n",
              "      <td>-11.948057</td>\n",
              "      <td>246.395835</td>\n",
              "      <td>-4.692918</td>\n",
              "      <td>4.198290</td>\n",
              "    </tr>\n",
              "    <tr>\n",
              "      <th>1729590</th>\n",
              "      <td>MX</td>\n",
              "      <td>2021-06-25</td>\n",
              "      <td>3009397</td>\n",
              "      <td>FX04</td>\n",
              "      <td>0.5964</td>\n",
              "      <td>3009397:FX04</td>\n",
              "      <td>C</td>\n",
              "      <td>Y</td>\n",
              "      <td>CY</td>\n",
              "      <td>129.566002</td>\n",
              "      <td>...</td>\n",
              "      <td>-0.019143</td>\n",
              "      <td>19.916581</td>\n",
              "      <td>4.296667</td>\n",
              "      <td>192.774921</td>\n",
              "      <td>22.061034</td>\n",
              "      <td>20.343498</td>\n",
              "      <td>-11.948057</td>\n",
              "      <td>246.395835</td>\n",
              "      <td>-4.692918</td>\n",
              "      <td>4.198290</td>\n",
              "    </tr>\n",
              "  </tbody>\n",
              "</table>\n",
              "<p>1729591 rows × 32 columns</p>\n",
              "</div>\n",
              "      <button class=\"colab-df-convert\" onclick=\"convertToInteractive('df-4d48278e-1a16-4a99-a33b-1188d30afae6')\"\n",
              "              title=\"Convert this dataframe to an interactive table.\"\n",
              "              style=\"display:none;\">\n",
              "        \n",
              "  <svg xmlns=\"http://www.w3.org/2000/svg\" height=\"24px\"viewBox=\"0 0 24 24\"\n",
              "       width=\"24px\">\n",
              "    <path d=\"M0 0h24v24H0V0z\" fill=\"none\"/>\n",
              "    <path d=\"M18.56 5.44l.94 2.06.94-2.06 2.06-.94-2.06-.94-.94-2.06-.94 2.06-2.06.94zm-11 1L8.5 8.5l.94-2.06 2.06-.94-2.06-.94L8.5 2.5l-.94 2.06-2.06.94zm10 10l.94 2.06.94-2.06 2.06-.94-2.06-.94-.94-2.06-.94 2.06-2.06.94z\"/><path d=\"M17.41 7.96l-1.37-1.37c-.4-.4-.92-.59-1.43-.59-.52 0-1.04.2-1.43.59L10.3 9.45l-7.72 7.72c-.78.78-.78 2.05 0 2.83L4 21.41c.39.39.9.59 1.41.59.51 0 1.02-.2 1.41-.59l7.78-7.78 2.81-2.81c.8-.78.8-2.07 0-2.86zM5.41 20L4 18.59l7.72-7.72 1.47 1.35L5.41 20z\"/>\n",
              "  </svg>\n",
              "      </button>\n",
              "      \n",
              "  <style>\n",
              "    .colab-df-container {\n",
              "      display:flex;\n",
              "      flex-wrap:wrap;\n",
              "      gap: 12px;\n",
              "    }\n",
              "\n",
              "    .colab-df-convert {\n",
              "      background-color: #E8F0FE;\n",
              "      border: none;\n",
              "      border-radius: 50%;\n",
              "      cursor: pointer;\n",
              "      display: none;\n",
              "      fill: #1967D2;\n",
              "      height: 32px;\n",
              "      padding: 0 0 0 0;\n",
              "      width: 32px;\n",
              "    }\n",
              "\n",
              "    .colab-df-convert:hover {\n",
              "      background-color: #E2EBFA;\n",
              "      box-shadow: 0px 1px 2px rgba(60, 64, 67, 0.3), 0px 1px 3px 1px rgba(60, 64, 67, 0.15);\n",
              "      fill: #174EA6;\n",
              "    }\n",
              "\n",
              "    [theme=dark] .colab-df-convert {\n",
              "      background-color: #3B4455;\n",
              "      fill: #D2E3FC;\n",
              "    }\n",
              "\n",
              "    [theme=dark] .colab-df-convert:hover {\n",
              "      background-color: #434B5C;\n",
              "      box-shadow: 0px 1px 3px 1px rgba(0, 0, 0, 0.15);\n",
              "      filter: drop-shadow(0px 1px 2px rgba(0, 0, 0, 0.3));\n",
              "      fill: #FFFFFF;\n",
              "    }\n",
              "  </style>\n",
              "\n",
              "      <script>\n",
              "        const buttonEl =\n",
              "          document.querySelector('#df-4d48278e-1a16-4a99-a33b-1188d30afae6 button.colab-df-convert');\n",
              "        buttonEl.style.display =\n",
              "          google.colab.kernel.accessAllowed ? 'block' : 'none';\n",
              "\n",
              "        async function convertToInteractive(key) {\n",
              "          const element = document.querySelector('#df-4d48278e-1a16-4a99-a33b-1188d30afae6');\n",
              "          const dataTable =\n",
              "            await google.colab.kernel.invokeFunction('convertToInteractive',\n",
              "                                                     [key], {});\n",
              "          if (!dataTable) return;\n",
              "\n",
              "          const docLinkHtml = 'Like what you see? Visit the ' +\n",
              "            '<a target=\"_blank\" href=https://colab.research.google.com/notebooks/data_table.ipynb>data table notebook</a>'\n",
              "            + ' to learn more about interactive tables.';\n",
              "          element.innerHTML = '';\n",
              "          dataTable['output_type'] = 'display_data';\n",
              "          await google.colab.output.renderOutput(dataTable, element);\n",
              "          const docLink = document.createElement('div');\n",
              "          docLink.innerHTML = docLinkHtml;\n",
              "          element.appendChild(docLink);\n",
              "        }\n",
              "      </script>\n",
              "    </div>\n",
              "  </div>\n",
              "  "
            ]
          },
          "metadata": {},
          "execution_count": 4
        }
      ]
    },
    {
      "cell_type": "code",
      "source": [
        "'''\n",
        "No longer running PCA or any other dimensionality-reduction algorithm\n",
        "'''\n",
        "# #from sklearn.decomposition import PCA\n",
        "# # Principal component analysis (PCA)-- indexes calculated will be added as features in main dataset\n",
        "# features_list = [i for i in feat_df.columns if i not in ['date_month']]\n",
        "# '''\n",
        "# Here we'll aggregate features at sub-segment level for PCA\n",
        "# However, forecasting will still happen at TPI X DPG intersection only\n",
        "# So the newly created PCA indices will be added back as feature columns into the main dataset\n",
        "# '''\n",
        "# pca_df = df[['date', 'sub_seg']+features_list].groupby(['date', 'sub_seg'])\\\n",
        "#                                               .mean()\\\n",
        "#                                               .reset_index()\n",
        "\n",
        "# pca_indices = 5\n",
        "# pca_results = pd.DataFrame()\n",
        "\n",
        "# #--\n",
        "\n",
        "# #looping the PCA run over all sub-segments\n",
        "# #-------------------------------------loopfor other segments as well\n",
        "# sub_seg = 'BX'\n",
        "#   ##selecting only the feature columns to go into PCA algorithm\n",
        "# df_ = pca_df[pca_df['sub_seg']== sub_seg]\\\n",
        "#             [[col for col in pca_df.columns if col not in ['date', 'sub_seg']]]\\\n",
        "#             .reset_index(drop= True)\n",
        "\n",
        "#   ##fitting the PCA algorithm\n",
        "# print('Running PCA algorithm for \"{}\" sub-segment. Output will have {} indices'.format(sub_seg, pca_indices))\n",
        "# pca = PCA(n_components= pca_indices)\\\n",
        "#       .fit(df_)\n",
        "\n",
        "#   ##plotting the results-- how explained-variance-ratio progresses over indices\n",
        "# print(pca.explained_variance_ratio_, '\\n')\n",
        "# plt.plot(np.cumsum(pca.explained_variance_ratio_))\n",
        "# plt.xlabel('number of indices')\n",
        "# plt.ylabel('cumulative explained variance')\n",
        "# plt.show();\n",
        "\n",
        "#   ##saving the results\n",
        "# results = pca.transform(df_)\n",
        "# col_headers = ['pca_index_'+str(i) for i in range(1, pca_indices+1)]\n",
        "# date_ = pca_df[pca_df['sub_seg']== sub_seg]['date']\n",
        "\n",
        "# results = pd.DataFrame(results, columns= col_headers, index= date_)\n",
        "# results.insert(0, 'sub_seg', sub_seg)\n",
        "\n",
        "# results"
      ],
      "metadata": {
        "id": "S3eQ-osIVvpJ"
      },
      "execution_count": null,
      "outputs": []
    },
    {
      "cell_type": "code",
      "source": [
        "# Performing Feature Selection via Backward-feature-elimination, Forward-feature-selection, and its variants\n",
        "features_list = [i for i in feat_df.columns if i not in ['date_month']]\n",
        "'''\n",
        "Since feature selection will be perfomed at sub-segment level, we aggregate features,actual_sales to that level\n",
        "However, forecasting will still happen at (TPI X DPG) intersection only\n",
        "The selected features for each sub-segment will be called in at the time of forecasting\n",
        "'''\n",
        "df_X = df.groupby(['date', 'sub_seg'])[features_list]\\\n",
        "         .agg('mean')\\\n",
        "         .reset_index()\n",
        "\n",
        "df_y = df.groupby(['date', 'sub_seg'])['actual_sales']\\\n",
        "         .agg('sum')\\\n",
        "         .reset_index()\n",
        "\n",
        "fs_results = pd.DataFrame()\n",
        "\n",
        "#--\n",
        "\n",
        "#main loop for all sub_segments\n",
        "#for sub_seg in df_X['sub_seg'].unique():\n",
        "for sub_seg in ['AW', 'CY']:\n",
        "\n",
        "  print('\\nPerforming Feature Selection for \"{}\" sub_segment\\n'.format(sub_seg))\n",
        "  results = pd.DataFrame()\n",
        "  sub_seg = sub_seg\n",
        "  n_features = 10\n",
        "  verbosity = 0\n",
        "  k_fold_cv = 4\n",
        "\n",
        "  train_X = df_X[df_X['sub_seg']== sub_seg][features_list].reset_index(drop= True)\n",
        "  train_y = df_y[df_y['sub_seg']== sub_seg]['actual_sales'].reset_index(drop= True)\n",
        "\n",
        "  ##defining all models at once:\n",
        "  modelLR_f = SFS(LinearRegression(), k_features= n_features, forward= True, floating= False, verbose= verbosity, scoring= 'neg_mean_squared_error', cv= k_fold_cv)\n",
        "  modelLR_b = SFS(LinearRegression(), k_features= n_features, forward= False, floating= False, verbose= verbosity, scoring= 'neg_mean_squared_error', cv= k_fold_cv)\n",
        "  modelLR_ff = SFS(LinearRegression(), k_features= n_features, forward= True, floating= True, verbose= verbosity, scoring= 'neg_mean_squared_error', cv= k_fold_cv)\n",
        "  modelLR_bf = SFS(LinearRegression(), k_features= n_features, forward= False, floating= True, verbose= verbosity, scoring= 'neg_mean_squared_error', cv= k_fold_cv)\n",
        "\n",
        "  modelRF_f = SFS(RandomForestRegressor(), k_features= n_features, forward= True, floating= False, verbose= verbosity, scoring= 'neg_mean_squared_error', cv= k_fold_cv)\n",
        "  modelRF_b = SFS(RandomForestRegressor(), k_features= n_features, forward= False, floating= False, verbose= verbosity, scoring= 'neg_mean_squared_error', cv= k_fold_cv)\n",
        "  modelRF_ff = SFS(RandomForestRegressor(), k_features= n_features, forward= True, floating= True, verbose= verbosity, scoring= 'neg_mean_squared_error', cv= k_fold_cv)\n",
        "  modelRF_bf = SFS(RandomForestRegressor(), k_features= n_features, forward= False, floating= True, verbose= verbosity, scoring= 'neg_mean_squared_error', cv= k_fold_cv)\n",
        "\n",
        "  #model_list = ['LR_f', 'LR_b', 'LR_ff', 'LR_bf', 'RF_f', 'RF_b', 'RF_ff', 'RF_bf']\n",
        "  model_list = ['LR_f', 'LR_b']\n",
        "\n",
        "  for model in model_list:\n",
        "    results_ = pd.DataFrame()\n",
        "    print('\\tRunning model {}'.format(model))\n",
        "    eval('model'+model).fit(train_X, train_y)\n",
        "    results_['feature_list'] = [list(eval('model'+model).k_feature_names_)]\n",
        "    results_['feature_ids'] = str(eval('model'+model).k_feature_idx_)\n",
        "    results_['feature_selection_metrics'] = [eval('model'+model).get_metric_dict()]\n",
        "    results_.insert(0, 'sub_seg', sub_seg)\n",
        "    results_.insert(1, 'model', model)\n",
        "    results = pd.concat([results, results_])\n",
        "  \n",
        "  ##appending results into the main fs_results dataset\n",
        "  fs_results = pd.concat([fs_results, results]).reset_index(drop= True)\n",
        "    \n",
        "fs_results"
      ],
      "metadata": {
        "colab": {
          "base_uri": "https://localhost:8080/",
          "height": 348
        },
        "id": "wb-fvE7pu0cG",
        "outputId": "7093118a-d4c8-4795-b15e-138179936a6b"
      },
      "execution_count": null,
      "outputs": [
        {
          "output_type": "display_data",
          "data": {
            "text/plain": [
              "<IPython.core.display.Javascript object>"
            ],
            "application/javascript": [
              "\n",
              "        if (window._pyforest_update_imports_cell) { window._pyforest_update_imports_cell('import bokeh\\nimport altair as alt\\nimport pandas as pd\\nfrom statsmodels.tsa.arima_model import ARIMA\\nimport cv2\\nimport numpy as np\\nimport matplotlib.pyplot as plt\\nfrom sklearn.model_selection import cross_val_score\\nfrom sklearn.feature_extraction.text import CountVectorizer'); }\n",
              "    "
            ]
          },
          "metadata": {}
        },
        {
          "output_type": "stream",
          "name": "stdout",
          "text": [
            "\n",
            "Performing Feature Selection for \"AW\" sub_segment\n",
            "\n"
          ]
        },
        {
          "output_type": "display_data",
          "data": {
            "text/plain": [
              "<IPython.core.display.Javascript object>"
            ],
            "application/javascript": [
              "\n",
              "        if (window._pyforest_update_imports_cell) { window._pyforest_update_imports_cell('import bokeh\\nimport altair as alt\\nimport pandas as pd\\nfrom statsmodels.tsa.arima_model import ARIMA\\nimport cv2\\nimport numpy as np\\nimport matplotlib.pyplot as plt\\nfrom sklearn.model_selection import cross_val_score\\nfrom sklearn.feature_extraction.text import CountVectorizer'); }\n",
              "    "
            ]
          },
          "metadata": {}
        },
        {
          "output_type": "display_data",
          "data": {
            "text/plain": [
              "<IPython.core.display.Javascript object>"
            ],
            "application/javascript": [
              "\n",
              "        if (window._pyforest_update_imports_cell) { window._pyforest_update_imports_cell('import bokeh\\nimport altair as alt\\nimport pandas as pd\\nfrom statsmodels.tsa.arima_model import ARIMA\\nimport cv2\\nimport numpy as np\\nimport matplotlib.pyplot as plt\\nfrom sklearn.model_selection import cross_val_score\\nfrom sklearn.feature_extraction.text import CountVectorizer'); }\n",
              "    "
            ]
          },
          "metadata": {}
        },
        {
          "output_type": "stream",
          "name": "stdout",
          "text": [
            "\tRunning model LR_f\n"
          ]
        },
        {
          "output_type": "display_data",
          "data": {
            "text/plain": [
              "<IPython.core.display.Javascript object>"
            ],
            "application/javascript": [
              "\n",
              "        if (window._pyforest_update_imports_cell) { window._pyforest_update_imports_cell('import bokeh\\nimport altair as alt\\nimport pandas as pd\\nfrom statsmodels.tsa.arima_model import ARIMA\\nimport cv2\\nimport numpy as np\\nimport matplotlib.pyplot as plt\\nfrom sklearn.model_selection import cross_val_score\\nfrom sklearn.feature_extraction.text import CountVectorizer'); }\n",
              "    "
            ]
          },
          "metadata": {}
        },
        {
          "output_type": "display_data",
          "data": {
            "text/plain": [
              "<IPython.core.display.Javascript object>"
            ],
            "application/javascript": [
              "\n",
              "        if (window._pyforest_update_imports_cell) { window._pyforest_update_imports_cell('import bokeh\\nimport altair as alt\\nimport pandas as pd\\nfrom statsmodels.tsa.arima_model import ARIMA\\nimport cv2\\nimport numpy as np\\nimport matplotlib.pyplot as plt\\nfrom sklearn.model_selection import cross_val_score\\nfrom sklearn.feature_extraction.text import CountVectorizer'); }\n",
              "    "
            ]
          },
          "metadata": {}
        },
        {
          "output_type": "stream",
          "name": "stdout",
          "text": [
            "\tRunning model LR_b\n"
          ]
        },
        {
          "output_type": "display_data",
          "data": {
            "text/plain": [
              "<IPython.core.display.Javascript object>"
            ],
            "application/javascript": [
              "\n",
              "        if (window._pyforest_update_imports_cell) { window._pyforest_update_imports_cell('import bokeh\\nimport altair as alt\\nimport pandas as pd\\nfrom statsmodels.tsa.arima_model import ARIMA\\nimport cv2\\nimport numpy as np\\nimport matplotlib.pyplot as plt\\nfrom sklearn.model_selection import cross_val_score\\nfrom sklearn.feature_extraction.text import CountVectorizer'); }\n",
              "    "
            ]
          },
          "metadata": {}
        },
        {
          "output_type": "display_data",
          "data": {
            "text/plain": [
              "<IPython.core.display.Javascript object>"
            ],
            "application/javascript": [
              "\n",
              "        if (window._pyforest_update_imports_cell) { window._pyforest_update_imports_cell('import bokeh\\nimport altair as alt\\nimport pandas as pd\\nfrom statsmodels.tsa.arima_model import ARIMA\\nimport cv2\\nimport numpy as np\\nimport matplotlib.pyplot as plt\\nfrom sklearn.model_selection import cross_val_score\\nfrom sklearn.feature_extraction.text import CountVectorizer'); }\n",
              "    "
            ]
          },
          "metadata": {}
        },
        {
          "output_type": "stream",
          "name": "stdout",
          "text": [
            "\n",
            "Performing Feature Selection for \"CY\" sub_segment\n",
            "\n"
          ]
        },
        {
          "output_type": "display_data",
          "data": {
            "text/plain": [
              "<IPython.core.display.Javascript object>"
            ],
            "application/javascript": [
              "\n",
              "        if (window._pyforest_update_imports_cell) { window._pyforest_update_imports_cell('import bokeh\\nimport altair as alt\\nimport pandas as pd\\nfrom statsmodels.tsa.arima_model import ARIMA\\nimport cv2\\nimport numpy as np\\nimport matplotlib.pyplot as plt\\nfrom sklearn.model_selection import cross_val_score\\nfrom sklearn.feature_extraction.text import CountVectorizer'); }\n",
              "    "
            ]
          },
          "metadata": {}
        },
        {
          "output_type": "display_data",
          "data": {
            "text/plain": [
              "<IPython.core.display.Javascript object>"
            ],
            "application/javascript": [
              "\n",
              "        if (window._pyforest_update_imports_cell) { window._pyforest_update_imports_cell('import bokeh\\nimport altair as alt\\nimport pandas as pd\\nfrom statsmodels.tsa.arima_model import ARIMA\\nimport cv2\\nimport numpy as np\\nimport matplotlib.pyplot as plt\\nfrom sklearn.model_selection import cross_val_score\\nfrom sklearn.feature_extraction.text import CountVectorizer'); }\n",
              "    "
            ]
          },
          "metadata": {}
        },
        {
          "output_type": "stream",
          "name": "stdout",
          "text": [
            "\tRunning model LR_f\n"
          ]
        },
        {
          "output_type": "display_data",
          "data": {
            "text/plain": [
              "<IPython.core.display.Javascript object>"
            ],
            "application/javascript": [
              "\n",
              "        if (window._pyforest_update_imports_cell) { window._pyforest_update_imports_cell('import bokeh\\nimport altair as alt\\nimport pandas as pd\\nfrom statsmodels.tsa.arima_model import ARIMA\\nimport cv2\\nimport numpy as np\\nimport matplotlib.pyplot as plt\\nfrom sklearn.model_selection import cross_val_score\\nfrom sklearn.feature_extraction.text import CountVectorizer'); }\n",
              "    "
            ]
          },
          "metadata": {}
        },
        {
          "output_type": "display_data",
          "data": {
            "text/plain": [
              "<IPython.core.display.Javascript object>"
            ],
            "application/javascript": [
              "\n",
              "        if (window._pyforest_update_imports_cell) { window._pyforest_update_imports_cell('import bokeh\\nimport altair as alt\\nimport pandas as pd\\nfrom statsmodels.tsa.arima_model import ARIMA\\nimport cv2\\nimport numpy as np\\nimport matplotlib.pyplot as plt\\nfrom sklearn.model_selection import cross_val_score\\nfrom sklearn.feature_extraction.text import CountVectorizer'); }\n",
              "    "
            ]
          },
          "metadata": {}
        },
        {
          "output_type": "stream",
          "name": "stdout",
          "text": [
            "\tRunning model LR_b\n"
          ]
        },
        {
          "output_type": "display_data",
          "data": {
            "text/plain": [
              "<IPython.core.display.Javascript object>"
            ],
            "application/javascript": [
              "\n",
              "        if (window._pyforest_update_imports_cell) { window._pyforest_update_imports_cell('import bokeh\\nimport altair as alt\\nimport pandas as pd\\nfrom statsmodels.tsa.arima_model import ARIMA\\nimport cv2\\nimport numpy as np\\nimport matplotlib.pyplot as plt\\nfrom sklearn.model_selection import cross_val_score\\nfrom sklearn.feature_extraction.text import CountVectorizer'); }\n",
              "    "
            ]
          },
          "metadata": {}
        },
        {
          "output_type": "display_data",
          "data": {
            "text/plain": [
              "<IPython.core.display.Javascript object>"
            ],
            "application/javascript": [
              "\n",
              "        if (window._pyforest_update_imports_cell) { window._pyforest_update_imports_cell('import bokeh\\nimport altair as alt\\nimport pandas as pd\\nfrom statsmodels.tsa.arima_model import ARIMA\\nimport cv2\\nimport numpy as np\\nimport matplotlib.pyplot as plt\\nfrom sklearn.model_selection import cross_val_score\\nfrom sklearn.feature_extraction.text import CountVectorizer'); }\n",
              "    "
            ]
          },
          "metadata": {}
        },
        {
          "output_type": "execute_result",
          "data": {
            "text/plain": [
              "  sub_seg model                                       feature_list  \\\n",
              "0      AW  LR_f  [Exchange Rate Index_ Period Average (LCU per ...   \n",
              "1      AW  LR_b  [Consumer Price Index_Monthly, Index_ Retail S...   \n",
              "2      CY  LR_f  [Exchange Rate Index_ Period Average (LCU per ...   \n",
              "3      CY  LR_b  [Exchange Rate Index_ Period Average (LCU per ...   \n",
              "\n",
              "                             feature_ids  \\\n",
              "0  (1, 3, 8, 10, 12, 13, 17, 18, 20, 21)   \n",
              "1    (0, 3, 4, 6, 7, 15, 16, 17, 18, 21)   \n",
              "2  (1, 5, 9, 10, 11, 14, 16, 18, 20, 22)   \n",
              "3  (1, 3, 4, 11, 12, 15, 16, 17, 18, 22)   \n",
              "\n",
              "                           feature_selection_metrics  \n",
              "0  {1: {'feature_idx': (3,), 'cv_scores': [-38074...  \n",
              "1  {23: {'feature_idx': (0, 1, 2, 3, 4, 5, 6, 7, ...  \n",
              "2  {1: {'feature_idx': (16,), 'cv_scores': [-7894...  \n",
              "3  {23: {'feature_idx': (0, 1, 2, 3, 4, 5, 6, 7, ...  "
            ],
            "text/html": [
              "\n",
              "  <div id=\"df-bf683720-0494-4237-8003-70ff9ea1abcf\">\n",
              "    <div class=\"colab-df-container\">\n",
              "      <div>\n",
              "<style scoped>\n",
              "    .dataframe tbody tr th:only-of-type {\n",
              "        vertical-align: middle;\n",
              "    }\n",
              "\n",
              "    .dataframe tbody tr th {\n",
              "        vertical-align: top;\n",
              "    }\n",
              "\n",
              "    .dataframe thead th {\n",
              "        text-align: right;\n",
              "    }\n",
              "</style>\n",
              "<table border=\"1\" class=\"dataframe\">\n",
              "  <thead>\n",
              "    <tr style=\"text-align: right;\">\n",
              "      <th></th>\n",
              "      <th>sub_seg</th>\n",
              "      <th>model</th>\n",
              "      <th>feature_list</th>\n",
              "      <th>feature_ids</th>\n",
              "      <th>feature_selection_metrics</th>\n",
              "    </tr>\n",
              "  </thead>\n",
              "  <tbody>\n",
              "    <tr>\n",
              "      <th>0</th>\n",
              "      <td>AW</td>\n",
              "      <td>LR_f</td>\n",
              "      <td>[Exchange Rate Index_ Period Average (LCU per ...</td>\n",
              "      <td>(1, 3, 8, 10, 12, 13, 17, 18, 20, 21)</td>\n",
              "      <td>{1: {'feature_idx': (3,), 'cv_scores': [-38074...</td>\n",
              "    </tr>\n",
              "    <tr>\n",
              "      <th>1</th>\n",
              "      <td>AW</td>\n",
              "      <td>LR_b</td>\n",
              "      <td>[Consumer Price Index_Monthly, Index_ Retail S...</td>\n",
              "      <td>(0, 3, 4, 6, 7, 15, 16, 17, 18, 21)</td>\n",
              "      <td>{23: {'feature_idx': (0, 1, 2, 3, 4, 5, 6, 7, ...</td>\n",
              "    </tr>\n",
              "    <tr>\n",
              "      <th>2</th>\n",
              "      <td>CY</td>\n",
              "      <td>LR_f</td>\n",
              "      <td>[Exchange Rate Index_ Period Average (LCU per ...</td>\n",
              "      <td>(1, 5, 9, 10, 11, 14, 16, 18, 20, 22)</td>\n",
              "      <td>{1: {'feature_idx': (16,), 'cv_scores': [-7894...</td>\n",
              "    </tr>\n",
              "    <tr>\n",
              "      <th>3</th>\n",
              "      <td>CY</td>\n",
              "      <td>LR_b</td>\n",
              "      <td>[Exchange Rate Index_ Period Average (LCU per ...</td>\n",
              "      <td>(1, 3, 4, 11, 12, 15, 16, 17, 18, 22)</td>\n",
              "      <td>{23: {'feature_idx': (0, 1, 2, 3, 4, 5, 6, 7, ...</td>\n",
              "    </tr>\n",
              "  </tbody>\n",
              "</table>\n",
              "</div>\n",
              "      <button class=\"colab-df-convert\" onclick=\"convertToInteractive('df-bf683720-0494-4237-8003-70ff9ea1abcf')\"\n",
              "              title=\"Convert this dataframe to an interactive table.\"\n",
              "              style=\"display:none;\">\n",
              "        \n",
              "  <svg xmlns=\"http://www.w3.org/2000/svg\" height=\"24px\"viewBox=\"0 0 24 24\"\n",
              "       width=\"24px\">\n",
              "    <path d=\"M0 0h24v24H0V0z\" fill=\"none\"/>\n",
              "    <path d=\"M18.56 5.44l.94 2.06.94-2.06 2.06-.94-2.06-.94-.94-2.06-.94 2.06-2.06.94zm-11 1L8.5 8.5l.94-2.06 2.06-.94-2.06-.94L8.5 2.5l-.94 2.06-2.06.94zm10 10l.94 2.06.94-2.06 2.06-.94-2.06-.94-.94-2.06-.94 2.06-2.06.94z\"/><path d=\"M17.41 7.96l-1.37-1.37c-.4-.4-.92-.59-1.43-.59-.52 0-1.04.2-1.43.59L10.3 9.45l-7.72 7.72c-.78.78-.78 2.05 0 2.83L4 21.41c.39.39.9.59 1.41.59.51 0 1.02-.2 1.41-.59l7.78-7.78 2.81-2.81c.8-.78.8-2.07 0-2.86zM5.41 20L4 18.59l7.72-7.72 1.47 1.35L5.41 20z\"/>\n",
              "  </svg>\n",
              "      </button>\n",
              "      \n",
              "  <style>\n",
              "    .colab-df-container {\n",
              "      display:flex;\n",
              "      flex-wrap:wrap;\n",
              "      gap: 12px;\n",
              "    }\n",
              "\n",
              "    .colab-df-convert {\n",
              "      background-color: #E8F0FE;\n",
              "      border: none;\n",
              "      border-radius: 50%;\n",
              "      cursor: pointer;\n",
              "      display: none;\n",
              "      fill: #1967D2;\n",
              "      height: 32px;\n",
              "      padding: 0 0 0 0;\n",
              "      width: 32px;\n",
              "    }\n",
              "\n",
              "    .colab-df-convert:hover {\n",
              "      background-color: #E2EBFA;\n",
              "      box-shadow: 0px 1px 2px rgba(60, 64, 67, 0.3), 0px 1px 3px 1px rgba(60, 64, 67, 0.15);\n",
              "      fill: #174EA6;\n",
              "    }\n",
              "\n",
              "    [theme=dark] .colab-df-convert {\n",
              "      background-color: #3B4455;\n",
              "      fill: #D2E3FC;\n",
              "    }\n",
              "\n",
              "    [theme=dark] .colab-df-convert:hover {\n",
              "      background-color: #434B5C;\n",
              "      box-shadow: 0px 1px 3px 1px rgba(0, 0, 0, 0.15);\n",
              "      filter: drop-shadow(0px 1px 2px rgba(0, 0, 0, 0.3));\n",
              "      fill: #FFFFFF;\n",
              "    }\n",
              "  </style>\n",
              "\n",
              "      <script>\n",
              "        const buttonEl =\n",
              "          document.querySelector('#df-bf683720-0494-4237-8003-70ff9ea1abcf button.colab-df-convert');\n",
              "        buttonEl.style.display =\n",
              "          google.colab.kernel.accessAllowed ? 'block' : 'none';\n",
              "\n",
              "        async function convertToInteractive(key) {\n",
              "          const element = document.querySelector('#df-bf683720-0494-4237-8003-70ff9ea1abcf');\n",
              "          const dataTable =\n",
              "            await google.colab.kernel.invokeFunction('convertToInteractive',\n",
              "                                                     [key], {});\n",
              "          if (!dataTable) return;\n",
              "\n",
              "          const docLinkHtml = 'Like what you see? Visit the ' +\n",
              "            '<a target=\"_blank\" href=https://colab.research.google.com/notebooks/data_table.ipynb>data table notebook</a>'\n",
              "            + ' to learn more about interactive tables.';\n",
              "          element.innerHTML = '';\n",
              "          dataTable['output_type'] = 'display_data';\n",
              "          await google.colab.output.renderOutput(dataTable, element);\n",
              "          const docLink = document.createElement('div');\n",
              "          docLink.innerHTML = docLinkHtml;\n",
              "          element.appendChild(docLink);\n",
              "        }\n",
              "      </script>\n",
              "    </div>\n",
              "  </div>\n",
              "  "
            ]
          },
          "metadata": {},
          "execution_count": 8
        }
      ]
    },
    {
      "cell_type": "code",
      "source": [
        "# Visualizing the final results\n",
        "#sub_seg_list = [i for i in df_X['sub_seg'].unique()]\n",
        "sub_seg_list = ['AW', 'CY']\n",
        "#model_list = ['LR_f', 'LR_b', 'LR_ff', 'LR_bf', 'RF_f', 'RF_b', 'RF_ff', 'RF_bf']\n",
        "model_list = ['LR_f', 'LR_b']\n",
        "\n",
        "#--\n",
        "\n",
        "#this loop plots how each of the models' performance as the number of features are added/removed\n",
        "for sub_seg in sub_seg_list:\n",
        "  for model in model_list:\n",
        "    print('Sub-segment= \"{}\", Feature-selection model= \"{}\"'.format(sub_seg, model))\n",
        "    print('*'*50)\n",
        "    print('selected features: {}\\n'.format(fs_results[fs_results['sub_seg']== sub_seg][fs_results['model']== model]['feature_ids'].iloc[0]))\n",
        "\n",
        "    feature_list = fs_results[fs_results['sub_seg']== sub_seg][fs_results['model']== model]['feature_list'].iloc[0]\n",
        "    for feature in feature_list: print(feature)\n",
        "\n",
        "    metrics = fs_results[fs_results['sub_seg']== sub_seg][fs_results['model']== model]['feature_selection_metrics'].iloc[0]\n",
        "    fig1 = plot_SFS(metrics)\n",
        "    plt.title(sub_seg+' --> '+model)\n",
        "    plt.grid()\n",
        "    plt.show()\n",
        "    print('\\n\\n')"
      ],
      "metadata": {
        "id": "6_hAWGJHwEcl",
        "colab": {
          "base_uri": "https://localhost:8080/",
          "height": 1000
        },
        "outputId": "2729111f-8324-45b3-915e-f742154c099e"
      },
      "execution_count": null,
      "outputs": [
        {
          "output_type": "stream",
          "name": "stdout",
          "text": [
            "Sub-segment= \"AW\", Feature-selection model= \"LR_f\"\n",
            "**************************************************\n",
            "selected features: (1, 3, 8, 10, 12, 13, 17, 18, 20, 21)\n",
            "\n",
            "Exchange Rate Index_ Period Average (LCU per US$)_Monthly\n",
            "Index_ Retail Sales_ Real (Volume)_Monthly\n",
            "BOP Goods Exports_ US$_ Growth Rate_ Quarter-on-Quarter_ SAAR_Quarterly\n",
            "Deflator: Government Consumption_ euro_Quarterly\n",
            "Fiscal Balance: Overall (Government Savings)_ in LCU_ general government_Quarterly\n",
            "Growth Rate: International Reserves Excluding Gold_ US$_ Quarter-on-Quarter SAAR Percent Change_Quarterly\n",
            "M1 as Percent of GDP_Quarterly\n",
            "NIA Imports of Goods & Non-Factor Service Deflator_ U.S. Dollar Basis_ Quarter-on-Quarter Percent Change_ SAAR_Quarterly\n",
            "Nominal Fixed Investment_ US$_Quarterly\n",
            "Nominal NIA Net Exports_ US$_Quarterly\n"
          ]
        },
        {
          "output_type": "display_data",
          "data": {
            "text/plain": [
              "<IPython.core.display.Javascript object>"
            ],
            "application/javascript": [
              "\n",
              "        if (window._pyforest_update_imports_cell) { window._pyforest_update_imports_cell('import bokeh\\nimport altair as alt\\nimport pandas as pd\\nfrom statsmodels.tsa.arima_model import ARIMA\\nimport cv2\\nimport numpy as np\\nimport matplotlib.pyplot as plt\\nfrom sklearn.model_selection import cross_val_score\\nfrom sklearn.feature_extraction.text import CountVectorizer'); }\n",
              "    "
            ]
          },
          "metadata": {}
        },
        {
          "output_type": "display_data",
          "data": {
            "text/plain": [
              "<IPython.core.display.Javascript object>"
            ],
            "application/javascript": [
              "\n",
              "        if (window._pyforest_update_imports_cell) { window._pyforest_update_imports_cell('import bokeh\\nimport altair as alt\\nimport pandas as pd\\nfrom statsmodels.tsa.arima_model import ARIMA\\nimport cv2\\nimport numpy as np\\nimport matplotlib.pyplot as plt\\nfrom sklearn.model_selection import cross_val_score\\nfrom sklearn.feature_extraction.text import CountVectorizer'); }\n",
              "    "
            ]
          },
          "metadata": {}
        },
        {
          "output_type": "display_data",
          "data": {
            "text/plain": [
              "<IPython.core.display.Javascript object>"
            ],
            "application/javascript": [
              "\n",
              "        if (window._pyforest_update_imports_cell) { window._pyforest_update_imports_cell('import bokeh\\nimport altair as alt\\nimport pandas as pd\\nfrom statsmodels.tsa.arima_model import ARIMA\\nimport cv2\\nimport numpy as np\\nimport matplotlib.pyplot as plt\\nfrom sklearn.model_selection import cross_val_score\\nfrom sklearn.feature_extraction.text import CountVectorizer'); }\n",
              "    "
            ]
          },
          "metadata": {}
        },
        {
          "output_type": "display_data",
          "data": {
            "text/plain": [
              "<Figure size 432x288 with 1 Axes>"
            ],
            "image/png": "[encoded data removed]"
          },
          "metadata": {
            "needs_background": "light"
          }
        },
        {
          "output_type": "stream",
          "name": "stdout",
          "text": [
            "\n",
            "\n",
            "\n",
            "Sub-segment= \"AW\", Feature-selection model= \"LR_b\"\n",
            "**************************************************\n",
            "selected features: (0, 3, 4, 6, 7, 15, 16, 17, 18, 21)\n",
            "\n",
            "Consumer Price Index_Monthly\n",
            "Index_ Retail Sales_ Real (Volume)_Monthly\n",
            "Industrial Production Index_Monthly\n",
            "Long-Term Interest Rate Differential With USA_Monthly\n",
            "BOP Goods Balance_ % of GDP_Quarterly\n",
            "Interest Rate: Money Market_Quarterly\n",
            "International Reserves Excluding Gold_ US$_Quarterly\n",
            "M1 as Percent of GDP_Quarterly\n",
            "NIA Imports of Goods & Non-Factor Service Deflator_ U.S. Dollar Basis_ Quarter-on-Quarter Percent Change_ SAAR_Quarterly\n",
            "Nominal NIA Net Exports_ US$_Quarterly\n"
          ]
        },
        {
          "output_type": "display_data",
          "data": {
            "text/plain": [
              "<IPython.core.display.Javascript object>"
            ],
            "application/javascript": [
              "\n",
              "        if (window._pyforest_update_imports_cell) { window._pyforest_update_imports_cell('import bokeh\\nimport altair as alt\\nimport pandas as pd\\nfrom statsmodels.tsa.arima_model import ARIMA\\nimport cv2\\nimport numpy as np\\nimport matplotlib.pyplot as plt\\nfrom sklearn.model_selection import cross_val_score\\nfrom sklearn.feature_extraction.text import CountVectorizer'); }\n",
              "    "
            ]
          },
          "metadata": {}
        },
        {
          "output_type": "display_data",
          "data": {
            "text/plain": [
              "<IPython.core.display.Javascript object>"
            ],
            "application/javascript": [
              "\n",
              "        if (window._pyforest_update_imports_cell) { window._pyforest_update_imports_cell('import bokeh\\nimport altair as alt\\nimport pandas as pd\\nfrom statsmodels.tsa.arima_model import ARIMA\\nimport cv2\\nimport numpy as np\\nimport matplotlib.pyplot as plt\\nfrom sklearn.model_selection import cross_val_score\\nfrom sklearn.feature_extraction.text import CountVectorizer'); }\n",
              "    "
            ]
          },
          "metadata": {}
        },
        {
          "output_type": "display_data",
          "data": {
            "text/plain": [
              "<IPython.core.display.Javascript object>"
            ],
            "application/javascript": [
              "\n",
              "        if (window._pyforest_update_imports_cell) { window._pyforest_update_imports_cell('import bokeh\\nimport altair as alt\\nimport pandas as pd\\nfrom statsmodels.tsa.arima_model import ARIMA\\nimport cv2\\nimport numpy as np\\nimport matplotlib.pyplot as plt\\nfrom sklearn.model_selection import cross_val_score\\nfrom sklearn.feature_extraction.text import CountVectorizer'); }\n",
              "    "
            ]
          },
          "metadata": {}
        },
        {
          "output_type": "display_data",
          "data": {
            "text/plain": [
              "<Figure size 432x288 with 1 Axes>"
            ],
            "image/png": "[encoded data removed]"
          },
          "metadata": {
            "needs_background": "light"
          }
        },
        {
          "output_type": "stream",
          "name": "stdout",
          "text": [
            "\n",
            "\n",
            "\n",
            "Sub-segment= \"CY\", Feature-selection model= \"LR_f\"\n",
            "**************************************************\n",
            "selected features: (1, 5, 9, 10, 11, 14, 16, 18, 20, 22)\n",
            "\n",
            "Exchange Rate Index_ Period Average (LCU per US$)_Monthly\n",
            "Interest Rate Spread: Long-Term minus Short-Term_Monthly\n",
            "Broad Money Supply_ Period End_ US$_Quarterly\n",
            "Deflator: Government Consumption_ euro_Quarterly\n",
            "Domestic Investment Deflator_ Year-on-Year Percent Change_Quarterly\n",
            "Growth Rate_ Broad Money Supply_ Period End_ Quarter-on-Quarter_ SAAR_ Percent Change_ US$_Quarterly\n",
            "International Reserves Excluding Gold_ US$_Quarterly\n",
            "NIA Imports of Goods & Non-Factor Service Deflator_ U.S. Dollar Basis_ Quarter-on-Quarter Percent Change_ SAAR_Quarterly\n",
            "Nominal Fixed Investment_ US$_Quarterly\n",
            "Unemployment Rate_Quarterly\n"
          ]
        },
        {
          "output_type": "display_data",
          "data": {
            "text/plain": [
              "<IPython.core.display.Javascript object>"
            ],
            "application/javascript": [
              "\n",
              "        if (window._pyforest_update_imports_cell) { window._pyforest_update_imports_cell('import bokeh\\nimport altair as alt\\nimport pandas as pd\\nfrom statsmodels.tsa.arima_model import ARIMA\\nimport cv2\\nimport numpy as np\\nimport matplotlib.pyplot as plt\\nfrom sklearn.model_selection import cross_val_score\\nfrom sklearn.feature_extraction.text import CountVectorizer'); }\n",
              "    "
            ]
          },
          "metadata": {}
        },
        {
          "output_type": "display_data",
          "data": {
            "text/plain": [
              "<IPython.core.display.Javascript object>"
            ],
            "application/javascript": [
              "\n",
              "        if (window._pyforest_update_imports_cell) { window._pyforest_update_imports_cell('import bokeh\\nimport altair as alt\\nimport pandas as pd\\nfrom statsmodels.tsa.arima_model import ARIMA\\nimport cv2\\nimport numpy as np\\nimport matplotlib.pyplot as plt\\nfrom sklearn.model_selection import cross_val_score\\nfrom sklearn.feature_extraction.text import CountVectorizer'); }\n",
              "    "
            ]
          },
          "metadata": {}
        },
        {
          "output_type": "display_data",
          "data": {
            "text/plain": [
              "<IPython.core.display.Javascript object>"
            ],
            "application/javascript": [
              "\n",
              "        if (window._pyforest_update_imports_cell) { window._pyforest_update_imports_cell('import bokeh\\nimport altair as alt\\nimport pandas as pd\\nfrom statsmodels.tsa.arima_model import ARIMA\\nimport cv2\\nimport numpy as np\\nimport matplotlib.pyplot as plt\\nfrom sklearn.model_selection import cross_val_score\\nfrom sklearn.feature_extraction.text import CountVectorizer'); }\n",
              "    "
            ]
          },
          "metadata": {}
        },
        {
          "output_type": "display_data",
          "data": {
            "text/plain": [
              "<Figure size 432x288 with 1 Axes>"
            ],
            "image/png": "[encoded data removed]"
          },
          "metadata": {
            "needs_background": "light"
          }
        },
        {
          "output_type": "stream",
          "name": "stdout",
          "text": [
            "\n",
            "\n",
            "\n",
            "Sub-segment= \"CY\", Feature-selection model= \"LR_b\"\n",
            "**************************************************\n",
            "selected features: (1, 3, 4, 11, 12, 15, 16, 17, 18, 22)\n",
            "\n",
            "Exchange Rate Index_ Period Average (LCU per US$)_Monthly\n",
            "Index_ Retail Sales_ Real (Volume)_Monthly\n",
            "Industrial Production Index_Monthly\n",
            "Domestic Investment Deflator_ Year-on-Year Percent Change_Quarterly\n",
            "Fiscal Balance: Overall (Government Savings)_ in LCU_ general government_Quarterly\n",
            "Interest Rate: Money Market_Quarterly\n",
            "International Reserves Excluding Gold_ US$_Quarterly\n",
            "M1 as Percent of GDP_Quarterly\n",
            "NIA Imports of Goods & Non-Factor Service Deflator_ U.S. Dollar Basis_ Quarter-on-Quarter Percent Change_ SAAR_Quarterly\n",
            "Unemployment Rate_Quarterly\n"
          ]
        },
        {
          "output_type": "display_data",
          "data": {
            "text/plain": [
              "<IPython.core.display.Javascript object>"
            ],
            "application/javascript": [
              "\n",
              "        if (window._pyforest_update_imports_cell) { window._pyforest_update_imports_cell('import bokeh\\nimport altair as alt\\nimport pandas as pd\\nfrom statsmodels.tsa.arima_model import ARIMA\\nimport cv2\\nimport numpy as np\\nimport matplotlib.pyplot as plt\\nfrom sklearn.model_selection import cross_val_score\\nfrom sklearn.feature_extraction.text import CountVectorizer'); }\n",
              "    "
            ]
          },
          "metadata": {}
        },
        {
          "output_type": "display_data",
          "data": {
            "text/plain": [
              "<IPython.core.display.Javascript object>"
            ],
            "application/javascript": [
              "\n",
              "        if (window._pyforest_update_imports_cell) { window._pyforest_update_imports_cell('import bokeh\\nimport altair as alt\\nimport pandas as pd\\nfrom statsmodels.tsa.arima_model import ARIMA\\nimport cv2\\nimport numpy as np\\nimport matplotlib.pyplot as plt\\nfrom sklearn.model_selection import cross_val_score\\nfrom sklearn.feature_extraction.text import CountVectorizer'); }\n",
              "    "
            ]
          },
          "metadata": {}
        },
        {
          "output_type": "display_data",
          "data": {
            "text/plain": [
              "<IPython.core.display.Javascript object>"
            ],
            "application/javascript": [
              "\n",
              "        if (window._pyforest_update_imports_cell) { window._pyforest_update_imports_cell('import bokeh\\nimport altair as alt\\nimport pandas as pd\\nfrom statsmodels.tsa.arima_model import ARIMA\\nimport cv2\\nimport numpy as np\\nimport matplotlib.pyplot as plt\\nfrom sklearn.model_selection import cross_val_score\\nfrom sklearn.feature_extraction.text import CountVectorizer'); }\n",
              "    "
            ]
          },
          "metadata": {}
        },
        {
          "output_type": "display_data",
          "data": {
            "text/plain": [
              "<Figure size 432x288 with 1 Axes>"
            ],
            "image/png": "[encoded data removed]"
          },
          "metadata": {
            "needs_background": "light"
          }
        },
        {
          "output_type": "stream",
          "name": "stdout",
          "text": [
            "\n",
            "\n",
            "\n"
          ]
        }
      ]
    }
  ]
}